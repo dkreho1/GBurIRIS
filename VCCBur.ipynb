{
 "cells": [
  {
   "cell_type": "markdown",
   "metadata": {},
   "source": [
    "# GBur-IRIS"
   ]
  },
  {
   "cell_type": "code",
   "execution_count": 1,
   "metadata": {},
   "outputs": [],
   "source": [
    "import numpy as np\n",
    "from functools import partial\n",
    "\n",
    "# To use the MOSEK solver for MaxCliqueSolverViaMip change the path to MOSEK license \n",
    "import os\n",
    "os.environ[\"MOSEKLM_LICENSE_FILE\"] = '/home/dzenan/mosek/mosek.lic'\n",
    "\n",
    "import sys\n",
    "filePath = os.path.dirname(os.path.abspath(\"__file__\"))\n",
    "sys.path.insert(1, os.path.join(filePath, \"src\"))\n",
    "\n",
    "from pydrake.all import (\n",
    "    MultibodyPlant,\n",
    "    RigidTransform,\n",
    "    RollPitchYaw,\n",
    "    Parser,\n",
    "    StartMeshcat,\n",
    "    ModelVisualizer,\n",
    "    HPolyhedron,\n",
    "    RobotDiagramBuilder,\n",
    "    SceneGraphCollisionChecker,\n",
    "    AddDefaultVisualization,\n",
    "    RobotCollisionType,\n",
    "    IrisFromCliqueCoverOptions,\n",
    "    IrisInConfigurationSpaceFromCliqueCover,\n",
    "    RandomGenerator,\n",
    "    MaxCliqueSolverViaMip,\n",
    "    MaxCliqueSolverViaGreedy\n",
    ")\n",
    "\n",
    "import matplotlib.pyplot as plt\n",
    "from timeit import default_timer as timer\n",
    "\n",
    "from VisualizeConfigurationSpace import *\n",
    "from ManualVCC import *\n",
    "from PlanarArm import *\n",
    "from AnthropomorphicArm import *\n",
    "from GeneralizedBur import *\n",
    "from GBurIRIS import *"
   ]
  },
  {
   "cell_type": "markdown",
   "metadata": {},
   "source": [
    "## Loading and visualizing models/scenes using Python code"
   ]
  },
  {
   "cell_type": "markdown",
   "metadata": {},
   "source": [
    "### 3DOF Flipper"
   ]
  },
  {
   "cell_type": "code",
   "execution_count": 2,
   "metadata": {},
   "outputs": [],
   "source": [
    "def Load3dofFlipper(plant: MultibodyPlant):\n",
    "    parser = Parser(plant)\n",
    "\n",
    "    # Paths to assets\n",
    "    oneDOFhand = os.path.join(filePath, \"assets/flipper/oneDOF_iiwa7_with_box_collision.sdf\")\n",
    "    twoDOFhand = os.path.join(filePath, \"assets/flipper/twoDOF_iiwa7_with_box_collision.sdf\")\n",
    "    boxBorder = os.path.join(filePath, \"assets/flipper/box_small.urdf\")\n",
    "\n",
    "    # Add assets to plant\n",
    "    models = []\n",
    "    models.append(parser.AddModels(boxBorder))\n",
    "    models.append(parser.AddModels(twoDOFhand))\n",
    "    models.append(parser.AddModels(oneDOFhand))\n",
    "\n",
    "    # Rearrange assets\n",
    "    locs = [[0.,0.,0.],\n",
    "        [0.,.55,0.],\n",
    "        [0.,-.55,0.]]\n",
    "    plant.WeldFrames(plant.world_frame(), \n",
    "                    plant.get_body(plant.GetBodyIndices(models[0][0])[0]).body_frame(), # plant.GetFrameByName(\"base\") also works here\n",
    "                    RigidTransform(locs[0]))\n",
    "    plant.WeldFrames(plant.world_frame(), \n",
    "                    plant.get_body(plant.GetBodyIndices(models[1][0])[0]).body_frame(), # plant.GetFrameByName(\"iiwa_twoDOF_link_0\") also works here\n",
    "                    RigidTransform(RollPitchYaw([0,0, -np.pi/2]).ToRotationMatrix(), locs[1]))\n",
    "    plant.WeldFrames(plant.world_frame(), \n",
    "                    plant.get_body(plant.GetBodyIndices(models[2][0])[0]).body_frame(), # plant.GetFrameByName(\"iiwa_oneDOF_link_0\") also works here\n",
    "                    RigidTransform(RollPitchYaw([0,0, -np.pi/2]).ToRotationMatrix(), locs[2]))"
   ]
  },
  {
   "cell_type": "code",
   "execution_count": 3,
   "metadata": {},
   "outputs": [
    {
     "name": "stderr",
     "output_type": "stream",
     "text": [
      "INFO:drake:Meshcat listening for connections at http://localhost:7000\n"
     ]
    }
   ],
   "source": [
    "meshcat1 = StartMeshcat()"
   ]
  },
  {
   "cell_type": "code",
   "execution_count": 4,
   "metadata": {},
   "outputs": [
    {
     "name": "stderr",
     "output_type": "stream",
     "text": [
      "WARNING:drake:/home/dzenan/Desktop/MasterThesis/assets/flipper/twoDOF_iiwa7_with_box_collision.sdf:433: warning: Ignoring unsupported SDFormat element in model: plugin\n",
      "WARNING:drake:/home/dzenan/Desktop/MasterThesis/assets/flipper/twoDOF_iiwa7_with_box_collision.sdf:37: warning: Ignoring unsupported SDFormat element in link: velocity_decay\n",
      "WARNING:drake:/home/dzenan/Desktop/MasterThesis/assets/flipper/twoDOF_iiwa7_with_box_collision.sdf:38: warning: Ignoring unsupported SDFormat element in link: self_collide\n",
      "WARNING:drake:/home/dzenan/Desktop/MasterThesis/assets/flipper/twoDOF_iiwa7_with_box_collision.sdf:74: warning: Ignoring unsupported SDFormat element in link: velocity_decay\n",
      "WARNING:drake:/home/dzenan/Desktop/MasterThesis/assets/flipper/twoDOF_iiwa7_with_box_collision.sdf:75: warning: Ignoring unsupported SDFormat element in link: self_collide\n",
      "WARNING:drake:/home/dzenan/Desktop/MasterThesis/assets/flipper/twoDOF_iiwa7_with_box_collision.sdf:130: warning: Ignoring unsupported SDFormat element in link: velocity_decay\n",
      "WARNING:drake:/home/dzenan/Desktop/MasterThesis/assets/flipper/twoDOF_iiwa7_with_box_collision.sdf:131: warning: Ignoring unsupported SDFormat element in link: self_collide\n",
      "WARNING:drake:/home/dzenan/Desktop/MasterThesis/assets/flipper/twoDOF_iiwa7_with_box_collision.sdf:186: warning: Ignoring unsupported SDFormat element in link: velocity_decay\n",
      "WARNING:drake:/home/dzenan/Desktop/MasterThesis/assets/flipper/twoDOF_iiwa7_with_box_collision.sdf:187: warning: Ignoring unsupported SDFormat element in link: self_collide\n",
      "WARNING:drake:/home/dzenan/Desktop/MasterThesis/assets/flipper/twoDOF_iiwa7_with_box_collision.sdf:242: warning: Ignoring unsupported SDFormat element in link: velocity_decay\n",
      "WARNING:drake:/home/dzenan/Desktop/MasterThesis/assets/flipper/twoDOF_iiwa7_with_box_collision.sdf:243: warning: Ignoring unsupported SDFormat element in link: self_collide\n",
      "WARNING:drake:/home/dzenan/Desktop/MasterThesis/assets/flipper/twoDOF_iiwa7_with_box_collision.sdf:298: warning: Ignoring unsupported SDFormat element in link: velocity_decay\n",
      "WARNING:drake:/home/dzenan/Desktop/MasterThesis/assets/flipper/twoDOF_iiwa7_with_box_collision.sdf:299: warning: Ignoring unsupported SDFormat element in link: self_collide\n",
      "WARNING:drake:/home/dzenan/Desktop/MasterThesis/assets/flipper/twoDOF_iiwa7_with_box_collision.sdf:354: warning: Ignoring unsupported SDFormat element in link: velocity_decay\n",
      "WARNING:drake:/home/dzenan/Desktop/MasterThesis/assets/flipper/twoDOF_iiwa7_with_box_collision.sdf:355: warning: Ignoring unsupported SDFormat element in link: self_collide\n",
      "WARNING:drake:/home/dzenan/Desktop/MasterThesis/assets/flipper/twoDOF_iiwa7_with_box_collision.sdf:410: warning: Ignoring unsupported SDFormat element in link: velocity_decay\n",
      "WARNING:drake:/home/dzenan/Desktop/MasterThesis/assets/flipper/twoDOF_iiwa7_with_box_collision.sdf:411: warning: Ignoring unsupported SDFormat element in link: self_collide\n",
      "WARNING:drake:/home/dzenan/Desktop/MasterThesis/assets/flipper/oneDOF_iiwa7_with_box_collision.sdf:433: warning: Ignoring unsupported SDFormat element in model: plugin\n",
      "WARNING:drake:/home/dzenan/Desktop/MasterThesis/assets/flipper/oneDOF_iiwa7_with_box_collision.sdf:37: warning: Ignoring unsupported SDFormat element in link: velocity_decay\n",
      "WARNING:drake:/home/dzenan/Desktop/MasterThesis/assets/flipper/oneDOF_iiwa7_with_box_collision.sdf:38: warning: Ignoring unsupported SDFormat element in link: self_collide\n",
      "WARNING:drake:/home/dzenan/Desktop/MasterThesis/assets/flipper/oneDOF_iiwa7_with_box_collision.sdf:74: warning: Ignoring unsupported SDFormat element in link: velocity_decay\n",
      "WARNING:drake:/home/dzenan/Desktop/MasterThesis/assets/flipper/oneDOF_iiwa7_with_box_collision.sdf:75: warning: Ignoring unsupported SDFormat element in link: self_collide\n",
      "WARNING:drake:/home/dzenan/Desktop/MasterThesis/assets/flipper/oneDOF_iiwa7_with_box_collision.sdf:130: warning: Ignoring unsupported SDFormat element in link: velocity_decay\n",
      "WARNING:drake:/home/dzenan/Desktop/MasterThesis/assets/flipper/oneDOF_iiwa7_with_box_collision.sdf:131: warning: Ignoring unsupported SDFormat element in link: self_collide\n",
      "WARNING:drake:/home/dzenan/Desktop/MasterThesis/assets/flipper/oneDOF_iiwa7_with_box_collision.sdf:186: warning: Ignoring unsupported SDFormat element in link: velocity_decay\n",
      "WARNING:drake:/home/dzenan/Desktop/MasterThesis/assets/flipper/oneDOF_iiwa7_with_box_collision.sdf:187: warning: Ignoring unsupported SDFormat element in link: self_collide\n",
      "WARNING:drake:/home/dzenan/Desktop/MasterThesis/assets/flipper/oneDOF_iiwa7_with_box_collision.sdf:242: warning: Ignoring unsupported SDFormat element in link: velocity_decay\n",
      "WARNING:drake:/home/dzenan/Desktop/MasterThesis/assets/flipper/oneDOF_iiwa7_with_box_collision.sdf:243: warning: Ignoring unsupported SDFormat element in link: self_collide\n",
      "WARNING:drake:/home/dzenan/Desktop/MasterThesis/assets/flipper/oneDOF_iiwa7_with_box_collision.sdf:298: warning: Ignoring unsupported SDFormat element in link: velocity_decay\n",
      "WARNING:drake:/home/dzenan/Desktop/MasterThesis/assets/flipper/oneDOF_iiwa7_with_box_collision.sdf:299: warning: Ignoring unsupported SDFormat element in link: self_collide\n",
      "WARNING:drake:/home/dzenan/Desktop/MasterThesis/assets/flipper/oneDOF_iiwa7_with_box_collision.sdf:354: warning: Ignoring unsupported SDFormat element in link: velocity_decay\n",
      "WARNING:drake:/home/dzenan/Desktop/MasterThesis/assets/flipper/oneDOF_iiwa7_with_box_collision.sdf:355: warning: Ignoring unsupported SDFormat element in link: self_collide\n",
      "WARNING:drake:/home/dzenan/Desktop/MasterThesis/assets/flipper/oneDOF_iiwa7_with_box_collision.sdf:410: warning: Ignoring unsupported SDFormat element in link: velocity_decay\n",
      "WARNING:drake:/home/dzenan/Desktop/MasterThesis/assets/flipper/oneDOF_iiwa7_with_box_collision.sdf:411: warning: Ignoring unsupported SDFormat element in link: self_collide\n",
      "INFO:drake:Click 'Stop Running' or press Esc to quit\n"
     ]
    }
   ],
   "source": [
    "v = ModelVisualizer(meshcat=meshcat1)\n",
    "Load3dofFlipper(v.parser().plant())\n",
    "v.Run()"
   ]
  },
  {
   "cell_type": "markdown",
   "metadata": {},
   "source": [
    "### 7DOF IIWA with shelves"
   ]
  },
  {
   "cell_type": "code",
   "execution_count": 7,
   "metadata": {},
   "outputs": [],
   "source": [
    "def Load7dofIIWAwithShelves(plant: MultibodyPlant):\n",
    "    parser = Parser(plant)\n",
    "\n",
    "    # Paths to assets\n",
    "    iiwa7_asset = os.path.join(filePath, \"assets/iiwa_description/sdf/iiwa7_with_box_collision.sdf\")\n",
    "    shelves_asset = os.path.join(filePath, \"assets/shelves.sdf\")\n",
    "\n",
    "    # Drake model directives for WSG\n",
    "    model_directives = \"\"\"    \n",
    "directives:\n",
    "- add_model:\n",
    "    name: wsg\n",
    "    file: file://%s\n",
    "- add_weld:\n",
    "    parent: iiwa7::iiwa_link_7\n",
    "    child: wsg::body\n",
    "    X_PC:\n",
    "        translation: [0, 0, 0.09]\n",
    "        rotation: !Rpy { deg: [90, 0, 90]}\n",
    "\"\"\" % os.path.join(filePath, \"assets/wsg_50_description/sdf/schunk_wsg_50_welded_fingers.sdf\")\n",
    "\n",
    "    parser.SetAutoRenaming(True) # To avoid naming collision. Using two different parsers also works to get around naming collisions\n",
    "\n",
    "    # Add assets to plant\n",
    "    models = []\n",
    "    models.append(parser.AddModels(iiwa7_asset))\n",
    "    models.append(parser.AddModelsFromString(model_directives, \".dmd.yaml\"))\n",
    "    models.append(parser.AddModels(shelves_asset))\n",
    "    models.append(parser.AddModels(shelves_asset))\n",
    "\n",
    "    # Rearrange assets\n",
    "    sp = 0.4\n",
    "    x_fac = 1.2\n",
    "    locs = [ [0,0,0], \n",
    "            [x_fac*sp, 1.4*sp,0.4], [x_fac*sp,-1.4*sp,0.4], [-x_fac*sp,-1.4*sp,0.4], [-x_fac*sp,1.4*sp,0.4], \n",
    "            [0.0 ,0 , 0.95], [0.0 ,0 , -0.05]] \n",
    "    plant.WeldFrames(plant.world_frame(), plant.get_body(plant.GetBodyIndices(models[0][0])[0]).body_frame(),\n",
    "                    RigidTransform(locs[0]))\n",
    "    plant.WeldFrames(plant.world_frame(), plant.get_body(plant.GetBodyIndices(models[2][0])[0]).body_frame(),\n",
    "                    RigidTransform(locs[1]))\n",
    "    plant.WeldFrames(plant.world_frame(), plant.get_body(plant.GetBodyIndices(models[3][0])[0]).body_frame(),\n",
    "                    RigidTransform(locs[2]))"
   ]
  },
  {
   "cell_type": "code",
   "execution_count": 8,
   "metadata": {},
   "outputs": [
    {
     "name": "stderr",
     "output_type": "stream",
     "text": [
      "INFO:drake:Meshcat listening for connections at http://localhost:7001\n"
     ]
    }
   ],
   "source": [
    "meshcat2 = StartMeshcat()"
   ]
  },
  {
   "cell_type": "code",
   "execution_count": 9,
   "metadata": {},
   "outputs": [
    {
     "name": "stderr",
     "output_type": "stream",
     "text": [
      "INFO:drake:Click 'Stop Running' or press Esc to quit\n"
     ]
    }
   ],
   "source": [
    "v = ModelVisualizer(meshcat=meshcat2)\n",
    "Load7dofIIWAwithShelves(v.parser().plant())\n",
    "v.Run()"
   ]
  },
  {
   "cell_type": "markdown",
   "metadata": {},
   "source": [
    "## Loading and visualizing models/scenes using Drake Model Directives"
   ]
  },
  {
   "cell_type": "markdown",
   "metadata": {},
   "source": [
    "### 2DOF planar arm with cylinders (obstacles)"
   ]
  },
  {
   "cell_type": "code",
   "execution_count": 10,
   "metadata": {},
   "outputs": [
    {
     "name": "stderr",
     "output_type": "stream",
     "text": [
      "INFO:drake:Meshcat listening for connections at http://localhost:7002\n"
     ]
    }
   ],
   "source": [
    "meshcat3 = StartMeshcat()"
   ]
  },
  {
   "cell_type": "code",
   "execution_count": 11,
   "metadata": {},
   "outputs": [],
   "source": [
    "# Change meshcat background\n",
    "meshcat3.SetProperty(\"/Background\", \"top_color\", [0.894118, 0.964706, 0.972549, 0.4])\n",
    "meshcat3.SetProperty(\"/Background\", \"bottom_color\", [0.894118, 0.964706, 0.972549, 0.4])"
   ]
  },
  {
   "cell_type": "code",
   "execution_count": 13,
   "metadata": {},
   "outputs": [
    {
     "name": "stderr",
     "output_type": "stream",
     "text": [
      "INFO:drake:Click 'Stop Running' or press Esc to quit\n"
     ]
    }
   ],
   "source": [
    "v = ModelVisualizer(meshcat=meshcat3)\n",
    "v.parser().package_map().Add(\"assets\", os.path.join(os.path.dirname(os.path.abspath(\"__file__\")), \"assets\"))\n",
    "v.parser().AddModels(os.path.join(filePath, \"scenes/2dofScene0.dmd.yaml\"))\n",
    "v.Run()"
   ]
  },
  {
   "cell_type": "markdown",
   "metadata": {},
   "source": [
    "## Loading models/scenes and creating collision checkers"
   ]
  },
  {
   "cell_type": "code",
   "execution_count": 14,
   "metadata": {},
   "outputs": [
    {
     "name": "stderr",
     "output_type": "stream",
     "text": [
      "INFO:drake:Meshcat listening for connections at http://localhost:7003\n"
     ]
    }
   ],
   "source": [
    "meshcat4 = StartMeshcat()"
   ]
  },
  {
   "cell_type": "code",
   "execution_count": 18,
   "metadata": {},
   "outputs": [
    {
     "name": "stderr",
     "output_type": "stream",
     "text": [
      "INFO:drake:Allocating contexts to support implicit context parallelism 4\n"
     ]
    }
   ],
   "source": [
    "builder = RobotDiagramBuilder()\n",
    "plant = builder.plant()\n",
    "\n",
    "parser = Parser(plant)\n",
    "parser.package_map().Add(\"assets\", os.path.join(os.path.dirname(os.path.abspath(\"__file__\")), \"assets\"))\n",
    "parser.AddModels(os.path.join(filePath, \"scenes/2dofScene0.dmd.yaml\"))\n",
    "plant.Finalize()\n",
    "\n",
    "# If model visualization is needed\n",
    "AddDefaultVisualization(builder.builder(), meshcat4)\n",
    "\n",
    "diagram = builder.Build()\n",
    "\n",
    "# If the plant context is need it can be derived from the diagram (context)\n",
    "diagramContext = diagram.CreateDefaultContext()\n",
    "plantContext = plant.GetMyMutableContextFromRoot(diagramContext)\n",
    "\n",
    "# Update visualization\n",
    "diagram.ForcedPublish(diagramContext)\n",
    "\n",
    "checker = SceneGraphCollisionChecker(\n",
    "    model=diagram,\n",
    "    robot_model_instances=[ plant.GetModelInstanceByName(\"2dofPlanarArm\") ],\n",
    "    edge_step_size=0.1,\n",
    ")"
   ]
  },
  {
   "cell_type": "markdown",
   "metadata": {},
   "source": [
    "### Check for collision"
   ]
  },
  {
   "cell_type": "code",
   "execution_count": 19,
   "metadata": {},
   "outputs": [
    {
     "name": "stdout",
     "output_type": "stream",
     "text": [
      "True\n"
     ]
    }
   ],
   "source": [
    "# Check for collision\n",
    "q = [-np.pi / 2, np.pi / 2]\n",
    "print(checker.CheckConfigCollisionFree(q))\n",
    "\n",
    "# Update visualization\n",
    "plant.SetPositions(plantContext, q)\n",
    "diagram.ForcedPublish(diagramContext)"
   ]
  },
  {
   "cell_type": "code",
   "execution_count": 20,
   "metadata": {},
   "outputs": [
    {
     "name": "stdout",
     "output_type": "stream",
     "text": [
      "False\n"
     ]
    }
   ],
   "source": [
    "# Check for collision\n",
    "q = [-np.pi / 2, -np.pi / 2]\n",
    "print(checker.CheckConfigCollisionFree(q))\n",
    "\n",
    "# Update visualization\n",
    "plant.SetPositions(plantContext, q)\n",
    "diagram.ForcedPublish(diagramContext)"
   ]
  },
  {
   "cell_type": "markdown",
   "metadata": {},
   "source": [
    "## Visualize configuration space"
   ]
  },
  {
   "cell_type": "markdown",
   "metadata": {},
   "source": [
    "### 3DOF Flipper"
   ]
  },
  {
   "cell_type": "code",
   "execution_count": 21,
   "metadata": {},
   "outputs": [
    {
     "name": "stderr",
     "output_type": "stream",
     "text": [
      "INFO:drake:Meshcat listening for connections at http://localhost:7004\n"
     ]
    }
   ],
   "source": [
    "meshcat5 = StartMeshcat()"
   ]
  },
  {
   "cell_type": "code",
   "execution_count": 24,
   "metadata": {},
   "outputs": [
    {
     "name": "stderr",
     "output_type": "stream",
     "text": [
      "WARNING:drake:/home/dzenan/Desktop/MasterThesis/assets/flipper/twoDOF_iiwa7_with_box_collision.sdf:433: warning: Ignoring unsupported SDFormat element in model: plugin\n",
      "WARNING:drake:/home/dzenan/Desktop/MasterThesis/assets/flipper/twoDOF_iiwa7_with_box_collision.sdf:37: warning: Ignoring unsupported SDFormat element in link: velocity_decay\n",
      "WARNING:drake:/home/dzenan/Desktop/MasterThesis/assets/flipper/twoDOF_iiwa7_with_box_collision.sdf:38: warning: Ignoring unsupported SDFormat element in link: self_collide\n",
      "WARNING:drake:/home/dzenan/Desktop/MasterThesis/assets/flipper/twoDOF_iiwa7_with_box_collision.sdf:74: warning: Ignoring unsupported SDFormat element in link: velocity_decay\n",
      "WARNING:drake:/home/dzenan/Desktop/MasterThesis/assets/flipper/twoDOF_iiwa7_with_box_collision.sdf:75: warning: Ignoring unsupported SDFormat element in link: self_collide\n",
      "WARNING:drake:/home/dzenan/Desktop/MasterThesis/assets/flipper/twoDOF_iiwa7_with_box_collision.sdf:130: warning: Ignoring unsupported SDFormat element in link: velocity_decay\n",
      "WARNING:drake:/home/dzenan/Desktop/MasterThesis/assets/flipper/twoDOF_iiwa7_with_box_collision.sdf:131: warning: Ignoring unsupported SDFormat element in link: self_collide\n",
      "WARNING:drake:/home/dzenan/Desktop/MasterThesis/assets/flipper/twoDOF_iiwa7_with_box_collision.sdf:186: warning: Ignoring unsupported SDFormat element in link: velocity_decay\n",
      "WARNING:drake:/home/dzenan/Desktop/MasterThesis/assets/flipper/twoDOF_iiwa7_with_box_collision.sdf:187: warning: Ignoring unsupported SDFormat element in link: self_collide\n",
      "WARNING:drake:/home/dzenan/Desktop/MasterThesis/assets/flipper/twoDOF_iiwa7_with_box_collision.sdf:242: warning: Ignoring unsupported SDFormat element in link: velocity_decay\n",
      "WARNING:drake:/home/dzenan/Desktop/MasterThesis/assets/flipper/twoDOF_iiwa7_with_box_collision.sdf:243: warning: Ignoring unsupported SDFormat element in link: self_collide\n",
      "WARNING:drake:/home/dzenan/Desktop/MasterThesis/assets/flipper/twoDOF_iiwa7_with_box_collision.sdf:298: warning: Ignoring unsupported SDFormat element in link: velocity_decay\n",
      "WARNING:drake:/home/dzenan/Desktop/MasterThesis/assets/flipper/twoDOF_iiwa7_with_box_collision.sdf:299: warning: Ignoring unsupported SDFormat element in link: self_collide\n",
      "WARNING:drake:/home/dzenan/Desktop/MasterThesis/assets/flipper/twoDOF_iiwa7_with_box_collision.sdf:354: warning: Ignoring unsupported SDFormat element in link: velocity_decay\n",
      "WARNING:drake:/home/dzenan/Desktop/MasterThesis/assets/flipper/twoDOF_iiwa7_with_box_collision.sdf:355: warning: Ignoring unsupported SDFormat element in link: self_collide\n",
      "WARNING:drake:/home/dzenan/Desktop/MasterThesis/assets/flipper/twoDOF_iiwa7_with_box_collision.sdf:410: warning: Ignoring unsupported SDFormat element in link: velocity_decay\n",
      "WARNING:drake:/home/dzenan/Desktop/MasterThesis/assets/flipper/twoDOF_iiwa7_with_box_collision.sdf:411: warning: Ignoring unsupported SDFormat element in link: self_collide\n",
      "WARNING:drake:/home/dzenan/Desktop/MasterThesis/assets/flipper/oneDOF_iiwa7_with_box_collision.sdf:433: warning: Ignoring unsupported SDFormat element in model: plugin\n",
      "WARNING:drake:/home/dzenan/Desktop/MasterThesis/assets/flipper/oneDOF_iiwa7_with_box_collision.sdf:37: warning: Ignoring unsupported SDFormat element in link: velocity_decay\n",
      "WARNING:drake:/home/dzenan/Desktop/MasterThesis/assets/flipper/oneDOF_iiwa7_with_box_collision.sdf:38: warning: Ignoring unsupported SDFormat element in link: self_collide\n",
      "WARNING:drake:/home/dzenan/Desktop/MasterThesis/assets/flipper/oneDOF_iiwa7_with_box_collision.sdf:74: warning: Ignoring unsupported SDFormat element in link: velocity_decay\n",
      "WARNING:drake:/home/dzenan/Desktop/MasterThesis/assets/flipper/oneDOF_iiwa7_with_box_collision.sdf:75: warning: Ignoring unsupported SDFormat element in link: self_collide\n",
      "WARNING:drake:/home/dzenan/Desktop/MasterThesis/assets/flipper/oneDOF_iiwa7_with_box_collision.sdf:130: warning: Ignoring unsupported SDFormat element in link: velocity_decay\n",
      "WARNING:drake:/home/dzenan/Desktop/MasterThesis/assets/flipper/oneDOF_iiwa7_with_box_collision.sdf:131: warning: Ignoring unsupported SDFormat element in link: self_collide\n",
      "WARNING:drake:/home/dzenan/Desktop/MasterThesis/assets/flipper/oneDOF_iiwa7_with_box_collision.sdf:186: warning: Ignoring unsupported SDFormat element in link: velocity_decay\n",
      "WARNING:drake:/home/dzenan/Desktop/MasterThesis/assets/flipper/oneDOF_iiwa7_with_box_collision.sdf:187: warning: Ignoring unsupported SDFormat element in link: self_collide\n",
      "WARNING:drake:/home/dzenan/Desktop/MasterThesis/assets/flipper/oneDOF_iiwa7_with_box_collision.sdf:242: warning: Ignoring unsupported SDFormat element in link: velocity_decay\n",
      "WARNING:drake:/home/dzenan/Desktop/MasterThesis/assets/flipper/oneDOF_iiwa7_with_box_collision.sdf:243: warning: Ignoring unsupported SDFormat element in link: self_collide\n",
      "WARNING:drake:/home/dzenan/Desktop/MasterThesis/assets/flipper/oneDOF_iiwa7_with_box_collision.sdf:298: warning: Ignoring unsupported SDFormat element in link: velocity_decay\n",
      "WARNING:drake:/home/dzenan/Desktop/MasterThesis/assets/flipper/oneDOF_iiwa7_with_box_collision.sdf:299: warning: Ignoring unsupported SDFormat element in link: self_collide\n",
      "WARNING:drake:/home/dzenan/Desktop/MasterThesis/assets/flipper/oneDOF_iiwa7_with_box_collision.sdf:354: warning: Ignoring unsupported SDFormat element in link: velocity_decay\n",
      "WARNING:drake:/home/dzenan/Desktop/MasterThesis/assets/flipper/oneDOF_iiwa7_with_box_collision.sdf:355: warning: Ignoring unsupported SDFormat element in link: self_collide\n",
      "WARNING:drake:/home/dzenan/Desktop/MasterThesis/assets/flipper/oneDOF_iiwa7_with_box_collision.sdf:410: warning: Ignoring unsupported SDFormat element in link: velocity_decay\n",
      "WARNING:drake:/home/dzenan/Desktop/MasterThesis/assets/flipper/oneDOF_iiwa7_with_box_collision.sdf:411: warning: Ignoring unsupported SDFormat element in link: self_collide\n",
      "WARNING:drake:OutputPort[5] (spatial_velocities) of System ::plant (MultibodyPlant<double>) is deprecated: Use 'body_spatial_velocities' not 'spatial_velocities'. The deprecated spelling will be removed on 2024-10-01.\n",
      "WARNING:drake:OutputPort[7] (spatial_accelerations) of System ::plant (MultibodyPlant<double>) is deprecated: Use 'body_spatial_accelerations' not 'spatial_accelerations'. The deprecated spelling will be removed on 2024-10-01.\n",
      "INFO:drake:Allocating contexts to support implicit context parallelism 4\n"
     ]
    }
   ],
   "source": [
    "builder = RobotDiagramBuilder()\n",
    "plant = builder.plant()\n",
    "\n",
    "parser = Parser(plant)\n",
    "parser.package_map().Add(\"assets\", os.path.join(os.path.dirname(os.path.abspath(\"__file__\")), \"assets\"))\n",
    "parser.AddModels(os.path.join(filePath, \"scenes/3dofFlipper.dmd.yaml\"))\n",
    "plant.Finalize()\n",
    "\n",
    "diagram = builder.Build()\n",
    "\n",
    "# If the plant context is need it can be derived from the diagram (context)\n",
    "diagramContext = diagram.CreateDefaultContext()\n",
    "\n",
    "checker = SceneGraphCollisionChecker(\n",
    "    model=diagram,\n",
    "    robot_model_instances=[\n",
    "        plant.GetModelInstanceByName(\"2dofIIWA\"),\n",
    "        plant.GetModelInstanceByName(\"1dofIIWA\")\n",
    "        ],\n",
    "    edge_step_size=0.1,\n",
    ")\n",
    "\n",
    "N = 70\n",
    "visualize3dConfigSpace(meshcat5, checker, N)"
   ]
  },
  {
   "cell_type": "markdown",
   "metadata": {},
   "source": [
    "### 2DOF planar arm with cylinders (obstacles)"
   ]
  },
  {
   "cell_type": "code",
   "execution_count": 27,
   "metadata": {},
   "outputs": [
    {
     "name": "stderr",
     "output_type": "stream",
     "text": [
      "INFO:drake:Allocating contexts to support implicit context parallelism 4\n"
     ]
    },
    {
     "data": {
      "text/plain": [
       "Text(0, 0.5, '$q_1$')"
      ]
     },
     "execution_count": 27,
     "metadata": {},
     "output_type": "execute_result"
    },
    {
     "data": {
      "image/png": "[encoded data removed]",
      "text/plain": [
       "<Figure size 640x480 with 1 Axes>"
      ]
     },
     "metadata": {},
     "output_type": "display_data"
    }
   ],
   "source": [
    "builder = RobotDiagramBuilder()\n",
    "plant = builder.plant()\n",
    "\n",
    "parser = Parser(plant)\n",
    "parser.package_map().Add(\"assets\", os.path.join(os.path.dirname(os.path.abspath(\"__file__\")), \"assets\"))\n",
    "parser.AddModels(os.path.join(filePath, \"scenes/2dofScene0.dmd.yaml\"))\n",
    "plant.Finalize()\n",
    "\n",
    "diagram = builder.Build()\n",
    "\n",
    "# If the plant context is need it can be derived from the diagram (context)\n",
    "diagramContext = diagram.CreateDefaultContext()\n",
    "\n",
    "checker = SceneGraphCollisionChecker(\n",
    "    model=diagram,\n",
    "    robot_model_instances=[ plant.GetModelInstanceByName(\"2dofPlanarArm\") ],\n",
    "    edge_step_size=0.1,\n",
    ")\n",
    "\n",
    "N = 1000\n",
    "visualize2dConfigSpace(plt, checker, N, Rgba(0, 0, 0, 1))\n",
    "plt.xticks([0, N-1], [\"$-\\pi$\", \"$\\pi$\"])\n",
    "plt.yticks([0, N-1], [\"$\\pi$\", \"$-\\pi$\"])\n",
    "plt.xlabel(\"$q_0$\", labelpad=-10)\n",
    "plt.ylabel(\"$q_1$\", labelpad=-10, rotation=0)"
   ]
  },
  {
   "cell_type": "markdown",
   "metadata": {},
   "source": [
    "## Using the Drake implementation of the Visibility Clique Covering (VCC) algorithm"
   ]
  },
  {
   "cell_type": "markdown",
   "metadata": {},
   "source": [
    "### 3DOF Flipper"
   ]
  },
  {
   "cell_type": "markdown",
   "metadata": {},
   "source": [
    "#### Using greedy MaxClique solver"
   ]
  },
  {
   "cell_type": "code",
   "execution_count": null,
   "metadata": {},
   "outputs": [],
   "source": [
    "vcc_opts = IrisFromCliqueCoverOptions()\n",
    "\n",
    "vcc_opts.coverage_termination_threshold = 0.8\n",
    "vcc_opts.num_points_per_visibility_round = 500\n",
    "vcc_opts.num_points_per_coverage_check = 5000\n",
    "vcc_opts.minimum_clique_size = 10"
   ]
  },
  {
   "cell_type": "code",
   "execution_count": 3,
   "metadata": {},
   "outputs": [
    {
     "name": "stderr",
     "output_type": "stream",
     "text": [
      "WARNING:drake:/home/dzenan/Desktop/MasterThesis/assets/flipper/twoDOF_iiwa7_with_box_collision.sdf:433: warning: Ignoring unsupported SDFormat element in model: plugin\n",
      "WARNING:drake:/home/dzenan/Desktop/MasterThesis/assets/flipper/twoDOF_iiwa7_with_box_collision.sdf:37: warning: Ignoring unsupported SDFormat element in link: velocity_decay\n",
      "WARNING:drake:/home/dzenan/Desktop/MasterThesis/assets/flipper/twoDOF_iiwa7_with_box_collision.sdf:38: warning: Ignoring unsupported SDFormat element in link: self_collide\n",
      "WARNING:drake:/home/dzenan/Desktop/MasterThesis/assets/flipper/twoDOF_iiwa7_with_box_collision.sdf:74: warning: Ignoring unsupported SDFormat element in link: velocity_decay\n",
      "WARNING:drake:/home/dzenan/Desktop/MasterThesis/assets/flipper/twoDOF_iiwa7_with_box_collision.sdf:75: warning: Ignoring unsupported SDFormat element in link: self_collide\n",
      "WARNING:drake:/home/dzenan/Desktop/MasterThesis/assets/flipper/twoDOF_iiwa7_with_box_collision.sdf:130: warning: Ignoring unsupported SDFormat element in link: velocity_decay\n",
      "WARNING:drake:/home/dzenan/Desktop/MasterThesis/assets/flipper/twoDOF_iiwa7_with_box_collision.sdf:131: warning: Ignoring unsupported SDFormat element in link: self_collide\n",
      "WARNING:drake:/home/dzenan/Desktop/MasterThesis/assets/flipper/twoDOF_iiwa7_with_box_collision.sdf:186: warning: Ignoring unsupported SDFormat element in link: velocity_decay\n",
      "WARNING:drake:/home/dzenan/Desktop/MasterThesis/assets/flipper/twoDOF_iiwa7_with_box_collision.sdf:187: warning: Ignoring unsupported SDFormat element in link: self_collide\n",
      "WARNING:drake:/home/dzenan/Desktop/MasterThesis/assets/flipper/twoDOF_iiwa7_with_box_collision.sdf:242: warning: Ignoring unsupported SDFormat element in link: velocity_decay\n",
      "WARNING:drake:/home/dzenan/Desktop/MasterThesis/assets/flipper/twoDOF_iiwa7_with_box_collision.sdf:243: warning: Ignoring unsupported SDFormat element in link: self_collide\n",
      "WARNING:drake:/home/dzenan/Desktop/MasterThesis/assets/flipper/twoDOF_iiwa7_with_box_collision.sdf:298: warning: Ignoring unsupported SDFormat element in link: velocity_decay\n",
      "WARNING:drake:/home/dzenan/Desktop/MasterThesis/assets/flipper/twoDOF_iiwa7_with_box_collision.sdf:299: warning: Ignoring unsupported SDFormat element in link: self_collide\n",
      "WARNING:drake:/home/dzenan/Desktop/MasterThesis/assets/flipper/twoDOF_iiwa7_with_box_collision.sdf:354: warning: Ignoring unsupported SDFormat element in link: velocity_decay\n",
      "WARNING:drake:/home/dzenan/Desktop/MasterThesis/assets/flipper/twoDOF_iiwa7_with_box_collision.sdf:355: warning: Ignoring unsupported SDFormat element in link: self_collide\n",
      "WARNING:drake:/home/dzenan/Desktop/MasterThesis/assets/flipper/twoDOF_iiwa7_with_box_collision.sdf:410: warning: Ignoring unsupported SDFormat element in link: velocity_decay\n",
      "WARNING:drake:/home/dzenan/Desktop/MasterThesis/assets/flipper/twoDOF_iiwa7_with_box_collision.sdf:411: warning: Ignoring unsupported SDFormat element in link: self_collide\n",
      "WARNING:drake:/home/dzenan/Desktop/MasterThesis/assets/flipper/oneDOF_iiwa7_with_box_collision.sdf:433: warning: Ignoring unsupported SDFormat element in model: plugin\n",
      "WARNING:drake:/home/dzenan/Desktop/MasterThesis/assets/flipper/oneDOF_iiwa7_with_box_collision.sdf:37: warning: Ignoring unsupported SDFormat element in link: velocity_decay\n",
      "WARNING:drake:/home/dzenan/Desktop/MasterThesis/assets/flipper/oneDOF_iiwa7_with_box_collision.sdf:38: warning: Ignoring unsupported SDFormat element in link: self_collide\n",
      "WARNING:drake:/home/dzenan/Desktop/MasterThesis/assets/flipper/oneDOF_iiwa7_with_box_collision.sdf:74: warning: Ignoring unsupported SDFormat element in link: velocity_decay\n",
      "WARNING:drake:/home/dzenan/Desktop/MasterThesis/assets/flipper/oneDOF_iiwa7_with_box_collision.sdf:75: warning: Ignoring unsupported SDFormat element in link: self_collide\n",
      "WARNING:drake:/home/dzenan/Desktop/MasterThesis/assets/flipper/oneDOF_iiwa7_with_box_collision.sdf:130: warning: Ignoring unsupported SDFormat element in link: velocity_decay\n",
      "WARNING:drake:/home/dzenan/Desktop/MasterThesis/assets/flipper/oneDOF_iiwa7_with_box_collision.sdf:131: warning: Ignoring unsupported SDFormat element in link: self_collide\n",
      "WARNING:drake:/home/dzenan/Desktop/MasterThesis/assets/flipper/oneDOF_iiwa7_with_box_collision.sdf:186: warning: Ignoring unsupported SDFormat element in link: velocity_decay\n",
      "WARNING:drake:/home/dzenan/Desktop/MasterThesis/assets/flipper/oneDOF_iiwa7_with_box_collision.sdf:187: warning: Ignoring unsupported SDFormat element in link: self_collide\n",
      "WARNING:drake:/home/dzenan/Desktop/MasterThesis/assets/flipper/oneDOF_iiwa7_with_box_collision.sdf:242: warning: Ignoring unsupported SDFormat element in link: velocity_decay\n",
      "WARNING:drake:/home/dzenan/Desktop/MasterThesis/assets/flipper/oneDOF_iiwa7_with_box_collision.sdf:243: warning: Ignoring unsupported SDFormat element in link: self_collide\n",
      "WARNING:drake:/home/dzenan/Desktop/MasterThesis/assets/flipper/oneDOF_iiwa7_with_box_collision.sdf:298: warning: Ignoring unsupported SDFormat element in link: velocity_decay\n",
      "WARNING:drake:/home/dzenan/Desktop/MasterThesis/assets/flipper/oneDOF_iiwa7_with_box_collision.sdf:299: warning: Ignoring unsupported SDFormat element in link: self_collide\n",
      "WARNING:drake:/home/dzenan/Desktop/MasterThesis/assets/flipper/oneDOF_iiwa7_with_box_collision.sdf:354: warning: Ignoring unsupported SDFormat element in link: velocity_decay\n",
      "WARNING:drake:/home/dzenan/Desktop/MasterThesis/assets/flipper/oneDOF_iiwa7_with_box_collision.sdf:355: warning: Ignoring unsupported SDFormat element in link: self_collide\n",
      "WARNING:drake:/home/dzenan/Desktop/MasterThesis/assets/flipper/oneDOF_iiwa7_with_box_collision.sdf:410: warning: Ignoring unsupported SDFormat element in link: velocity_decay\n",
      "WARNING:drake:/home/dzenan/Desktop/MasterThesis/assets/flipper/oneDOF_iiwa7_with_box_collision.sdf:411: warning: Ignoring unsupported SDFormat element in link: self_collide\n",
      "WARNING:drake:OutputPort[5] (spatial_velocities) of System ::plant (MultibodyPlant<double>) is deprecated: Use 'body_spatial_velocities' not 'spatial_velocities'. The deprecated spelling will be removed on 2024-10-01.\n",
      "WARNING:drake:OutputPort[7] (spatial_accelerations) of System ::plant (MultibodyPlant<double>) is deprecated: Use 'body_spatial_accelerations' not 'spatial_accelerations'. The deprecated spelling will be removed on 2024-10-01.\n",
      "INFO:drake:Allocating contexts to support implicit context parallelism 4\n"
     ]
    }
   ],
   "source": [
    "builder = RobotDiagramBuilder()\n",
    "plant = builder.plant()\n",
    "\n",
    "parser = Parser(plant)\n",
    "parser.package_map().Add(\"assets\", os.path.join(os.path.dirname(os.path.abspath(\"__file__\")), \"assets\"))\n",
    "parser.AddModels(os.path.join(filePath, \"scenes/3dofFlipper.dmd.yaml\"))\n",
    "plant.Finalize()\n",
    "\n",
    "diagram = builder.Build()\n",
    "\n",
    "# If the plant context is need it can be derived from the diagram (context)\n",
    "diagramContext = diagram.CreateDefaultContext()\n",
    "\n",
    "checker = SceneGraphCollisionChecker(\n",
    "    model=diagram,\n",
    "    robot_model_instances=[\n",
    "        plant.GetModelInstanceByName(\"2dofIIWA\"),\n",
    "        plant.GetModelInstanceByName(\"1dofIIWA\")\n",
    "        ],\n",
    "    edge_step_size=0.1,\n",
    ")"
   ]
  },
  {
   "cell_type": "code",
   "execution_count": 4,
   "metadata": {},
   "outputs": [
    {
     "name": "stderr",
     "output_type": "stream",
     "text": [
      "INFO:drake:Using default max clique solver MaxCliqueSolverViaGreedy.\n",
      "INFO:drake:Current Fraction of Domain Covered = 0\n",
      "INFO:drake:IrisFromCliqueCover Iteration 1/100\n"
     ]
    },
    {
     "name": "stderr",
     "output_type": "stream",
     "text": [
      "INFO:drake:Clique added to queue. There are 275/500 points left to cover.\n",
      "INFO:drake:Clique added to queue. There are 209/500 points left to cover.\n",
      "INFO:drake:Clique added to queue. There are 145/500 points left to cover.\n",
      "INFO:drake:Finished adding cliques. Total of 3 clique added. Number of cliques left to process = 0\n",
      "INFO:drake:IrisInConfigurationSpace iteration 0\n",
      "INFO:drake:IrisInConfigurationSpace iteration 0\n",
      "INFO:drake:IrisInConfigurationSpace iteration 0\n",
      "INFO:drake:IrisInConfigurationSpace: Terminating because the iteration limit 1 has been reached.\n",
      "INFO:drake:IrisInConfigurationSpace: Terminating because the iteration limit 1 has been reached.\n",
      "INFO:drake:IrisInConfigurationSpace: Terminating because the iteration limit 1 has been reached.\n",
      "INFO:drake:3 new sets added in IrisFromCliqueCover at iteration 0. Total sets = 3\n",
      "INFO:drake:Current Fraction of Domain Covered = 0.6628\n",
      "INFO:drake:IrisFromCliqueCover Iteration 2/100\n",
      "INFO:drake:Clique added to queue. There are 444/500 points left to cover.\n",
      "INFO:drake:Clique added to queue. There are 405/500 points left to cover.\n",
      "INFO:drake:Clique added to queue. There are 352/500 points left to cover.\n",
      "INFO:drake:Clique added to queue. There are 307/500 points left to cover.\n",
      "INFO:drake:Clique added to queue. There are 210/500 points left to cover.\n",
      "INFO:drake:Clique added to queue. There are 195/500 points left to cover.\n",
      "INFO:drake:Finished adding cliques. Total of 6 clique added. Number of cliques left to process = 3\n",
      "INFO:drake:IrisInConfigurationSpace iteration 0\n",
      "INFO:drake:IrisInConfigurationSpace iteration 0\n",
      "INFO:drake:IrisInConfigurationSpace iteration 0\n",
      "INFO:drake:IrisInConfigurationSpace: Terminating because the iteration limit 1 has been reached.\n",
      "INFO:drake:IrisInConfigurationSpace iteration 0\n",
      "INFO:drake:IrisInConfigurationSpace: Terminating because the iteration limit 1 has been reached.\n",
      "INFO:drake:IrisInConfigurationSpace iteration 0\n",
      "INFO:drake:IrisInConfigurationSpace: Terminating because the iteration limit 1 has been reached.\n",
      "INFO:drake:IrisInConfigurationSpace iteration 0\n",
      "INFO:drake:IrisInConfigurationSpace: Terminating because the iteration limit 1 has been reached.\n",
      "INFO:drake:IrisInConfigurationSpace: Terminating because the iteration limit 1 has been reached.\n",
      "INFO:drake:IrisInConfigurationSpace: Terminating because the iteration limit 1 has been reached.\n",
      "INFO:drake:6 new sets added in IrisFromCliqueCover at iteration 1. Total sets = 9\n",
      "INFO:drake:Current Fraction of Domain Covered = 0.8074\n"
     ]
    }
   ],
   "source": [
    "pre_existing_regions = []\n",
    "vcc_regions = IrisInConfigurationSpaceFromCliqueCover(\n",
    "    checker, vcc_opts, RandomGenerator(1337), pre_existing_regions)"
   ]
  },
  {
   "cell_type": "code",
   "execution_count": 5,
   "metadata": {},
   "outputs": [
    {
     "name": "stderr",
     "output_type": "stream",
     "text": [
      "INFO:drake:Meshcat listening for connections at http://localhost:7000\n"
     ]
    }
   ],
   "source": [
    "meshcat6 = StartMeshcat()"
   ]
  },
  {
   "cell_type": "code",
   "execution_count": 6,
   "metadata": {},
   "outputs": [],
   "source": [
    "N = 70\n",
    "visualize3dConfigSpace(meshcat6, checker, N)\n",
    "\n",
    "for region in vcc_regions:\n",
    "    color = Rgba(np.random.uniform(), np.random.uniform(), np.random.uniform(), 1)\n",
    "    visualize3dIrisPolytope(meshcat6, checker, region, N, color)"
   ]
  },
  {
   "cell_type": "markdown",
   "metadata": {},
   "source": [
    "### 2DOF planar arm with cylinders (obstacles)"
   ]
  },
  {
   "cell_type": "code",
   "execution_count": 12,
   "metadata": {},
   "outputs": [],
   "source": [
    "vcc_opts = IrisFromCliqueCoverOptions()\n",
    "\n",
    "vcc_opts.coverage_termination_threshold = 0.9\n",
    "vcc_opts.num_points_per_visibility_round = 100\n",
    "vcc_opts.num_points_per_coverage_check = 5000\n",
    "vcc_opts.minimum_clique_size = 10"
   ]
  },
  {
   "cell_type": "code",
   "execution_count": 3,
   "metadata": {},
   "outputs": [
    {
     "name": "stderr",
     "output_type": "stream",
     "text": [
      "WARNING:drake:OutputPort[5] (spatial_velocities) of System ::plant (MultibodyPlant<double>) is deprecated: Use 'body_spatial_velocities' not 'spatial_velocities'. The deprecated spelling will be removed on 2024-10-01.\n",
      "WARNING:drake:OutputPort[7] (spatial_accelerations) of System ::plant (MultibodyPlant<double>) is deprecated: Use 'body_spatial_accelerations' not 'spatial_accelerations'. The deprecated spelling will be removed on 2024-10-01.\n",
      "INFO:drake:Allocating contexts to support implicit context parallelism 4\n"
     ]
    }
   ],
   "source": [
    "builder = RobotDiagramBuilder()\n",
    "plant = builder.plant()\n",
    "\n",
    "parser = Parser(plant)\n",
    "parser.package_map().Add(\"assets\", os.path.join(os.path.dirname(os.path.abspath(\"__file__\")), \"assets\"))\n",
    "parser.AddModels(os.path.join(filePath, \"scenes/2dofScene0.dmd.yaml\"))\n",
    "plant.Finalize()\n",
    "\n",
    "diagram = builder.Build()\n",
    "\n",
    "# If the plant context is need it can be derived from the diagram (context)\n",
    "diagramContext = diagram.CreateDefaultContext()\n",
    "\n",
    "checker = SceneGraphCollisionChecker(\n",
    "    model=diagram,\n",
    "    robot_model_instances=[ plant.GetModelInstanceByName(\"2dofPlanarArm\") ],\n",
    "    edge_step_size=0.1,\n",
    ")"
   ]
  },
  {
   "cell_type": "markdown",
   "metadata": {},
   "source": [
    "#### Using greedy MaxClique solver"
   ]
  },
  {
   "cell_type": "code",
   "execution_count": 13,
   "metadata": {},
   "outputs": [
    {
     "name": "stderr",
     "output_type": "stream",
     "text": [
      "INFO:drake:Using default max clique solver MaxCliqueSolverViaGreedy.\n",
      "INFO:drake:Current Fraction of Domain Covered = 0\n",
      "INFO:drake:IrisFromCliqueCover Iteration 1/100\n"
     ]
    },
    {
     "name": "stderr",
     "output_type": "stream",
     "text": [
      "INFO:drake:Clique added to queue. There are 40/100 points left to cover.\n",
      "INFO:drake:Clique added to queue. There are 23/100 points left to cover.\n",
      "INFO:drake:Clique added to queue. There are 9/100 points left to cover.\n",
      "INFO:drake:Finished adding cliques. Total of 3 clique added. Number of cliques left to process = 0\n",
      "INFO:drake:IrisInConfigurationSpace iteration 0\n",
      "INFO:drake:IrisInConfigurationSpace iteration 0\n",
      "INFO:drake:IrisInConfigurationSpace iteration 0\n",
      "INFO:drake:IrisInConfigurationSpace: Terminating because the iteration limit 1 has been reached.\n",
      "INFO:drake:IrisInConfigurationSpace: Terminating because the iteration limit 1 has been reached.\n",
      "INFO:drake:IrisInConfigurationSpace: Terminating because the iteration limit 1 has been reached.\n",
      "INFO:drake:3 new sets added in IrisFromCliqueCover at iteration 0. Total sets = 3\n",
      "INFO:drake:Current Fraction of Domain Covered = 0.7588\n",
      "INFO:drake:IrisFromCliqueCover Iteration 2/100\n",
      "INFO:drake:Clique added to queue. There are 63/100 points left to cover.\n",
      "INFO:drake:Finished adding cliques. Total of 1 clique added. Number of cliques left to process = 0\n",
      "INFO:drake:IrisInConfigurationSpace iteration 0\n",
      "INFO:drake:IrisInConfigurationSpace: Terminating because the iteration limit 1 has been reached.\n",
      "INFO:drake:1 new sets added in IrisFromCliqueCover at iteration 1. Total sets = 4\n",
      "INFO:drake:Current Fraction of Domain Covered = 0.8406\n",
      "INFO:drake:IrisFromCliqueCover Iteration 3/100\n",
      "INFO:drake:Clique added to queue. There are 83/100 points left to cover.\n",
      "INFO:drake:Clique added to queue. There are 61/100 points left to cover.\n",
      "INFO:drake:Clique added to queue. There are 45/100 points left to cover.\n",
      "INFO:drake:Clique added to queue. There are 34/100 points left to cover.\n",
      "INFO:drake:Finished adding cliques. Total of 4 clique added. Number of cliques left to process = 1\n",
      "INFO:drake:IrisInConfigurationSpace iteration 0\n",
      "INFO:drake:IrisInConfigurationSpace iteration 0\n",
      "INFO:drake:IrisInConfigurationSpace iteration 0\n",
      "INFO:drake:IrisInConfigurationSpace: Terminating because the iteration limit 1 has been reached.\n",
      "INFO:drake:IrisInConfigurationSpace iteration 0\n",
      "INFO:drake:IrisInConfigurationSpace: Terminating because the iteration limit 1 has been reached.\n",
      "INFO:drake:IrisInConfigurationSpace: Terminating because the iteration limit 1 has been reached.\n",
      "INFO:drake:IrisInConfigurationSpace: Terminating because the iteration limit 1 has been reached.\n",
      "INFO:drake:4 new sets added in IrisFromCliqueCover at iteration 2. Total sets = 8\n",
      "INFO:drake:Current Fraction of Domain Covered = 0.9108\n"
     ]
    }
   ],
   "source": [
    "pre_existing_regions = []\n",
    "# MaxCliqueSolverViaGreedy is the default solver\n",
    "vcc_regions = IrisInConfigurationSpaceFromCliqueCover(\n",
    "    checker, vcc_opts, RandomGenerator(1337), pre_existing_regions\n",
    ")"
   ]
  },
  {
   "cell_type": "code",
   "execution_count": 14,
   "metadata": {},
   "outputs": [
    {
     "data": {
      "image/png": "[encoded data removed]",
      "text/plain": [
       "<Figure size 640x480 with 1 Axes>"
      ]
     },
     "metadata": {},
     "output_type": "display_data"
    }
   ],
   "source": [
    "N = 250\n",
    "visualize2dConfigSpace(plt, checker, N, Rgba(0, 0, 0, 1))\n",
    "\n",
    "for region in vcc_regions:\n",
    "    color = Rgba(np.random.uniform(), np.random.uniform(), np.random.uniform(), 0.5)\n",
    "    visualize2dIrisPolytope(plt, checker.plant(), region, N, color)\n",
    "\n",
    "plt.xticks([0, N-1], [\"$-\\pi$\", \"$\\pi$\"])\n",
    "plt.yticks([0, N-1], [\"$\\pi$\", \"$-\\pi$\"])\n",
    "plt.xlabel(\"$q_0$\", labelpad=-10)\n",
    "plt.ylabel(\"$q_1$\", labelpad=-10, rotation=0)"
   ]
  },
  {
   "cell_type": "markdown",
   "metadata": {},
   "source": [
    "#### Using MOSEK MIP MaxClique solver"
   ]
  },
  {
   "cell_type": "code",
   "execution_count": 15,
   "metadata": {},
   "outputs": [
    {
     "name": "stderr",
     "output_type": "stream",
     "text": [
      "INFO:drake:Current Fraction of Domain Covered = 0\n",
      "INFO:drake:IrisFromCliqueCover Iteration 1/100\n"
     ]
    },
    {
     "name": "stderr",
     "output_type": "stream",
     "text": [
      "INFO:drake:Clique added to queue. There are 40/100 points left to cover.\n",
      "INFO:drake:IrisInConfigurationSpace iteration 0\n",
      "INFO:drake:IrisInConfigurationSpace: Terminating because the iteration limit 1 has been reached.\n",
      "INFO:drake:Clique added to queue. There are 23/100 points left to cover.\n",
      "INFO:drake:IrisInConfigurationSpace iteration 0\n",
      "INFO:drake:IrisInConfigurationSpace: Terminating because the iteration limit 1 has been reached.\n",
      "INFO:drake:Clique added to queue. There are 9/100 points left to cover.\n",
      "INFO:drake:Finished adding cliques. Total of 3 clique added. Number of cliques left to process = 0\n",
      "INFO:drake:IrisInConfigurationSpace iteration 0\n",
      "INFO:drake:IrisInConfigurationSpace: Terminating because the iteration limit 1 has been reached.\n",
      "INFO:drake:3 new sets added in IrisFromCliqueCover at iteration 0. Total sets = 3\n",
      "INFO:drake:Current Fraction of Domain Covered = 0.7588\n",
      "INFO:drake:IrisFromCliqueCover Iteration 2/100\n",
      "INFO:drake:Clique added to queue. There are 63/100 points left to cover.\n",
      "INFO:drake:IrisInConfigurationSpace iteration 0\n",
      "INFO:drake:IrisInConfigurationSpace: Terminating because the iteration limit 1 has been reached.\n",
      "INFO:drake:Clique added to queue. There are 39/100 points left to cover.\n",
      "INFO:drake:IrisInConfigurationSpace iteration 0\n",
      "INFO:drake:IrisInConfigurationSpace: Terminating because the iteration limit 1 has been reached.\n",
      "INFO:drake:Clique added to queue. There are 26/100 points left to cover.\n",
      "INFO:drake:IrisInConfigurationSpace iteration 0\n",
      "INFO:drake:IrisInConfigurationSpace: Terminating because the iteration limit 1 has been reached.\n",
      "INFO:drake:Finished adding cliques. Total of 3 clique added. Number of cliques left to process = 0\n",
      "INFO:drake:3 new sets added in IrisFromCliqueCover at iteration 1. Total sets = 6\n",
      "INFO:drake:Current Fraction of Domain Covered = 0.9006\n"
     ]
    }
   ],
   "source": [
    "pre_existing_regions = []\n",
    "vcc_regions = IrisInConfigurationSpaceFromCliqueCover(\n",
    "    checker, vcc_opts, RandomGenerator(1337), pre_existing_regions, MaxCliqueSolverViaMip()\n",
    ")"
   ]
  },
  {
   "cell_type": "code",
   "execution_count": 17,
   "metadata": {},
   "outputs": [
    {
     "data": {
      "text/plain": [
       "Text(0, 0.5, '$q_1$')"
      ]
     },
     "execution_count": 17,
     "metadata": {},
     "output_type": "execute_result"
    },
    {
     "data": {
      "image/png": "[encoded data removed]",
      "text/plain": [
       "<Figure size 640x480 with 1 Axes>"
      ]
     },
     "metadata": {},
     "output_type": "display_data"
    }
   ],
   "source": [
    "N = 250\n",
    "visualize2dConfigSpace(plt, checker, N, Rgba(0, 0, 0, 1))\n",
    "\n",
    "for region in vcc_regions:\n",
    "    color = Rgba(np.random.uniform(), np.random.uniform(), np.random.uniform(), 0.5)\n",
    "    visualize2dIrisPolytope(plt, checker.plant(), region, N, color)\n",
    "\n",
    "plt.xticks([0, N-1], [\"$-\\pi$\", \"$\\pi$\"])\n",
    "plt.yticks([0, N-1], [\"$\\pi$\", \"$-\\pi$\"])\n",
    "plt.xlabel(\"$q_0$\", labelpad=-10)\n",
    "plt.ylabel(\"$q_1$\", labelpad=-10, rotation=0)"
   ]
  },
  {
   "cell_type": "markdown",
   "metadata": {},
   "source": [
    "## Using the manual implementation of the Visibility Clique Covering (VCC) algorithm"
   ]
  },
  {
   "cell_type": "code",
   "execution_count": 18,
   "metadata": {},
   "outputs": [],
   "source": [
    "vcc_opts = IrisFromCliqueCoverOptions()\n",
    "\n",
    "vcc_opts.coverage_termination_threshold = 0.9\n",
    "vcc_opts.num_points_per_visibility_round = 100\n",
    "vcc_opts.num_points_per_coverage_check = 5000\n",
    "vcc_opts.minimum_clique_size = 10"
   ]
  },
  {
   "cell_type": "code",
   "execution_count": 19,
   "metadata": {},
   "outputs": [
    {
     "name": "stderr",
     "output_type": "stream",
     "text": [
      "INFO:drake:Allocating contexts to support implicit context parallelism 4\n"
     ]
    }
   ],
   "source": [
    "builder = RobotDiagramBuilder()\n",
    "plant = builder.plant()\n",
    "\n",
    "parser = Parser(plant)\n",
    "parser.package_map().Add(\"assets\", os.path.join(os.path.dirname(os.path.abspath(\"__file__\")), \"assets\"))\n",
    "parser.AddModels(os.path.join(filePath, \"scenes/2dofScene0.dmd.yaml\"))\n",
    "plant.Finalize()\n",
    "\n",
    "diagram = builder.Build()\n",
    "\n",
    "# If the plant context is need it can be derived from the diagram (context)\n",
    "diagramContext = diagram.CreateDefaultContext()\n",
    "\n",
    "checker = SceneGraphCollisionChecker(\n",
    "    model=diagram,\n",
    "    robot_model_instances=[ plant.GetModelInstanceByName(\"2dofPlanarArm\") ],\n",
    "    edge_step_size=0.1,\n",
    ")"
   ]
  },
  {
   "cell_type": "code",
   "execution_count": 20,
   "metadata": {},
   "outputs": [],
   "source": [
    "class DrakeRandomGenerator():\n",
    "    def __init__(\n",
    "            self,\n",
    "            domain: HPolyhedron,\n",
    "            randomGenerator: RandomGenerator\n",
    "        ) -> None:\n",
    "\n",
    "        self.domain = domain\n",
    "        self.randomGenerator = randomGenerator\n",
    "        self.lastSample = None\n",
    "\n",
    "\n",
    "    def randomConfig(\n",
    "            self\n",
    "            ):\n",
    "        if self.lastSample is None:\n",
    "            self.lastSample = self.domain.UniformSample(self.randomGenerator)\n",
    "        else:\n",
    "            self.lastSample = self.domain.UniformSample(self.randomGenerator, self.lastSample)\n",
    "\n",
    "        return self.lastSample\n"
   ]
  },
  {
   "cell_type": "markdown",
   "metadata": {},
   "source": [
    "#### Using greedy MaxClique solver"
   ]
  },
  {
   "cell_type": "code",
   "execution_count": 27,
   "metadata": {},
   "outputs": [
    {
     "name": "stderr",
     "output_type": "stream",
     "text": [
      "INFO:drake:IrisInConfigurationSpace iteration 0\n",
      "INFO:drake:IrisInConfigurationSpace: Terminating because the iteration limit 1 has been reached.\n",
      "INFO:drake:IrisInConfigurationSpace iteration 0\n",
      "INFO:drake:IrisInConfigurationSpace: Terminating because the iteration limit 1 has been reached.\n",
      "INFO:drake:IrisInConfigurationSpace iteration 0\n",
      "INFO:drake:IrisInConfigurationSpace: Terminating because the iteration limit 1 has been reached.\n",
      "INFO:drake:IrisInConfigurationSpace iteration 0\n",
      "INFO:drake:IrisInConfigurationSpace: Terminating because the iteration limit 1 has been reached.\n",
      "INFO:drake:IrisInConfigurationSpace iteration 0\n",
      "INFO:drake:IrisInConfigurationSpace: Terminating because the iteration limit 1 has been reached.\n",
      "INFO:drake:IrisInConfigurationSpace iteration 0\n",
      "INFO:drake:IrisInConfigurationSpace: Terminating because the iteration limit 1 has been reached.\n",
      "INFO:drake:IrisInConfigurationSpace iteration 0\n",
      "INFO:drake:IrisInConfigurationSpace: Terminating because the iteration limit 1 has been reached.\n",
      "INFO:drake:IrisInConfigurationSpace iteration 0\n",
      "INFO:drake:IrisInConfigurationSpace: Terminating because the iteration limit 1 has been reached.\n",
      "INFO:drake:IrisInConfigurationSpace iteration 0\n",
      "INFO:drake:IrisInConfigurationSpace: Terminating because the iteration limit 1 has been reached.\n"
     ]
    },
    {
     "name": "stdout",
     "output_type": "stream",
     "text": [
      "Coverage: 0.9184\n",
      "Num. of regions: 9\n"
     ]
    }
   ],
   "source": [
    "qLowerBounds = plant.GetPositionLowerLimits()\n",
    "qUpperBounds = plant.GetPositionUpperLimits()\n",
    "\n",
    "domain = HPolyhedron.MakeBox(qLowerBounds, qUpperBounds)\n",
    "randomGenerator = DrakeRandomGenerator(domain, RandomGenerator(1337))\n",
    "\n",
    "vcc_regions, coverage = VisibilityCliqueCover(checker, MaxCliqueSolverViaGreedy(), vcc_opts, randomGenerator.randomConfig)\n",
    "print(\"Coverage: \" + str(coverage))\n",
    "print(\"Num. of regions: \" + str(len(vcc_regions)))"
   ]
  },
  {
   "cell_type": "code",
   "execution_count": 22,
   "metadata": {},
   "outputs": [
    {
     "data": {
      "text/plain": [
       "Text(0, 0.5, '$q_1$')"
      ]
     },
     "execution_count": 22,
     "metadata": {},
     "output_type": "execute_result"
    },
    {
     "data": {
      "image/png": "[encoded data removed]",
      "text/plain": [
       "<Figure size 640x480 with 1 Axes>"
      ]
     },
     "metadata": {},
     "output_type": "display_data"
    }
   ],
   "source": [
    "N = 250\n",
    "visualize2dConfigSpace(plt, checker, N, Rgba(0, 0, 0, 1))\n",
    "\n",
    "for region in vcc_regions:\n",
    "    color = Rgba(np.random.uniform(), np.random.uniform(), np.random.uniform(), 0.5)\n",
    "    visualize2dIrisPolytope(plt, checker.plant(), region, N, color)\n",
    "\n",
    "plt.xticks([0, N-1], [\"$-\\pi$\", \"$\\pi$\"])\n",
    "plt.yticks([0, N-1], [\"$\\pi$\", \"$-\\pi$\"])\n",
    "plt.xlabel(\"$q_0$\", labelpad=-10)\n",
    "plt.ylabel(\"$q_1$\", labelpad=-10, rotation=0)"
   ]
  },
  {
   "cell_type": "markdown",
   "metadata": {},
   "source": [
    "#### Using MOSEK MIP MaxClique solver"
   ]
  },
  {
   "cell_type": "code",
   "execution_count": 23,
   "metadata": {},
   "outputs": [
    {
     "name": "stderr",
     "output_type": "stream",
     "text": [
      "INFO:drake:IrisInConfigurationSpace iteration 0\n",
      "INFO:drake:IrisInConfigurationSpace: Terminating because the iteration limit 1 has been reached.\n",
      "INFO:drake:IrisInConfigurationSpace iteration 0\n",
      "INFO:drake:IrisInConfigurationSpace: Terminating because the iteration limit 1 has been reached.\n",
      "INFO:drake:IrisInConfigurationSpace iteration 0\n",
      "INFO:drake:IrisInConfigurationSpace: Terminating because the iteration limit 1 has been reached.\n",
      "INFO:drake:IrisInConfigurationSpace iteration 0\n",
      "INFO:drake:IrisInConfigurationSpace: Terminating because the iteration limit 1 has been reached.\n",
      "INFO:drake:IrisInConfigurationSpace iteration 0\n",
      "INFO:drake:IrisInConfigurationSpace: Terminating because the iteration limit 1 has been reached.\n",
      "INFO:drake:IrisInConfigurationSpace iteration 0\n",
      "INFO:drake:IrisInConfigurationSpace: Terminating because the iteration limit 1 has been reached.\n",
      "INFO:drake:IrisInConfigurationSpace iteration 0\n",
      "INFO:drake:IrisInConfigurationSpace: Terminating because the iteration limit 1 has been reached.\n",
      "INFO:drake:IrisInConfigurationSpace iteration 0\n",
      "INFO:drake:IrisInConfigurationSpace: Terminating because the iteration limit 1 has been reached.\n"
     ]
    },
    {
     "name": "stdout",
     "output_type": "stream",
     "text": [
      "0.912\n"
     ]
    }
   ],
   "source": [
    "qLowerBounds = plant.GetPositionLowerLimits()\n",
    "qUpperBounds = plant.GetPositionUpperLimits()\n",
    "\n",
    "domain = HPolyhedron.MakeBox(qLowerBounds, qUpperBounds)\n",
    "randomGenerator = DrakeRandomGenerator(domain, RandomGenerator(1337))\n",
    "\n",
    "vcc_regions, coverage = VisibilityCliqueCover(checker, MaxCliqueSolverViaMip(), vcc_opts, randomGenerator.randomConfig)\n",
    "print(\"Coverage: \" + str(coverage))\n",
    "print(\"Num. of regions: \" + str(len(vcc_regions)))"
   ]
  },
  {
   "cell_type": "code",
   "execution_count": 24,
   "metadata": {},
   "outputs": [
    {
     "data": {
      "text/plain": [
       "Text(0, 0.5, '$q_1$')"
      ]
     },
     "execution_count": 24,
     "metadata": {},
     "output_type": "execute_result"
    },
    {
     "data": {
      "image/png": "[encoded data removed]",
      "text/plain": [
       "<Figure size 640x480 with 1 Axes>"
      ]
     },
     "metadata": {},
     "output_type": "display_data"
    }
   ],
   "source": [
    "N = 250\n",
    "visualize2dConfigSpace(plt, checker, N, Rgba(0, 0, 0, 1))\n",
    "\n",
    "for region in vcc_regions:\n",
    "    color = Rgba(np.random.uniform(), np.random.uniform(), np.random.uniform(), 0.5)\n",
    "    visualize2dIrisPolytope(plt, checker.plant(), region, N, color)\n",
    "\n",
    "plt.xticks([0, N-1], [\"$-\\pi$\", \"$\\pi$\"])\n",
    "plt.yticks([0, N-1], [\"$\\pi$\", \"$-\\pi$\"])\n",
    "plt.xlabel(\"$q_0$\", labelpad=-10)\n",
    "plt.ylabel(\"$q_1$\", labelpad=-10, rotation=0)"
   ]
  },
  {
   "cell_type": "markdown",
   "metadata": {},
   "source": [
    "## Generalized bur"
   ]
  },
  {
   "cell_type": "code",
   "execution_count": 2,
   "metadata": {},
   "outputs": [
    {
     "name": "stderr",
     "output_type": "stream",
     "text": [
      "WARNING:drake:OutputPort[5] (spatial_velocities) of System ::plant (MultibodyPlant<double>) is deprecated: Use 'body_spatial_velocities' not 'spatial_velocities'. The deprecated spelling will be removed on 2024-10-01.\n",
      "WARNING:drake:OutputPort[7] (spatial_accelerations) of System ::plant (MultibodyPlant<double>) is deprecated: Use 'body_spatial_accelerations' not 'spatial_accelerations'. The deprecated spelling will be removed on 2024-10-01.\n",
      "INFO:drake:Allocating contexts to support implicit context parallelism 4\n"
     ]
    }
   ],
   "source": [
    "builder = RobotDiagramBuilder()\n",
    "plant = builder.plant()\n",
    "\n",
    "parser = Parser(plant)\n",
    "parser.package_map().Add(\"assets\", os.path.join(os.path.dirname(os.path.abspath(\"__file__\")), \"assets\"))\n",
    "parser.AddModels(os.path.join(filePath, \"scenes/2dofScene0.dmd.yaml\"))\n",
    "plant.Finalize()\n",
    "\n",
    "diagram = builder.Build()\n",
    "\n",
    "# If the plant context is need it can be derived from the diagram (context)\n",
    "diagramContext = diagram.CreateDefaultContext()\n",
    "\n",
    "checker = SceneGraphCollisionChecker(\n",
    "    model=diagram,\n",
    "    robot_model_instances=[ plant.GetModelInstanceByName(\"2dofPlanarArm\") ],\n",
    "    edge_step_size=0.1,\n",
    ")"
   ]
  },
  {
   "cell_type": "code",
   "execution_count": 3,
   "metadata": {},
   "outputs": [],
   "source": [
    "jointChildAndEndEffectorLinks = [\n",
    "    plant.GetBodyByName(\"2dofPlanarLink1\", plant.GetModelInstanceByName(\"2dofPlanarArm\")),\n",
    "    plant.GetBodyByName(\"2dofPlanarLink2\", plant.GetModelInstanceByName(\"2dofPlanarArm\")),\n",
    "    plant.GetBodyByName(\"2dofPlanarEndEffector\", plant.GetModelInstanceByName(\"2dofPlanarArm\"))\n",
    "]\n",
    "\n",
    "planarArm = PlanarArm(\n",
    "    checker,\n",
    "    jointChildAndEndEffectorLinks,\n",
    "    [0.1] * 2\n",
    ")"
   ]
  },
  {
   "cell_type": "markdown",
   "metadata": {},
   "source": [
    "### Ordinary bur (Zeroth order GBur)"
   ]
  },
  {
   "cell_type": "code",
   "execution_count": 17,
   "metadata": {},
   "outputs": [],
   "source": [
    "gBurConfigs = GeneralizedBurConfig(\n",
    "    20,\n",
    "    0,\n",
    "    0.00001,\n",
    "    0.01\n",
    ")\n",
    "\n",
    "gBurCenter = [0, 0]\n",
    "\n",
    "qLowerBounds = plant.GetPositionLowerLimits()\n",
    "qUpperBounds = plant.GetPositionUpperLimits()\n",
    "np.random.seed(100)\n",
    "\n",
    "randomGenerator = partial(np.random.uniform, low = qLowerBounds, high = qUpperBounds)"
   ]
  },
  {
   "cell_type": "code",
   "execution_count": 18,
   "metadata": {},
   "outputs": [],
   "source": [
    "gBur = GeneralizedBur(\n",
    "    gBurCenter,\n",
    "    gBurConfigs,\n",
    "    planarArm,\n",
    "    randomGenerator\n",
    ")\n",
    "\n",
    "layers, _ = gBur.calculateBur()"
   ]
  },
  {
   "cell_type": "code",
   "execution_count": 20,
   "metadata": {},
   "outputs": [
    {
     "data": {
      "text/plain": [
       "Text(0, 0.5, '$q_1$')"
      ]
     },
     "execution_count": 20,
     "metadata": {},
     "output_type": "execute_result"
    },
    {
     "data": {
      "image/png": "[encoded data removed]",
      "text/plain": [
       "<Figure size 640x480 with 1 Axes>"
      ]
     },
     "metadata": {},
     "output_type": "display_data"
    }
   ],
   "source": [
    "N = 250\n",
    "visualize2dConfigSpace(plt, checker, N, Rgba(0, 0, 0, 1))\n",
    "visualize2dCompleteBubble(plt, checker, jointChildAndEndEffectorLinks, gBurCenter, N, Rgba(0.5, 0.5, 0.5, 1))\n",
    "visualize2dGeneralizedBur(\n",
    "    plt, checker, gBur, N, [\n",
    "        Rgba(0.75, 0, 0, 1)\n",
    "        ]\n",
    "    )\n",
    "\n",
    "plt.xticks([0, N-1], [\"$-\\pi$\", \"$\\pi$\"])\n",
    "plt.yticks([0, N-1], [\"$\\pi$\", \"$-\\pi$\"])\n",
    "plt.xlabel(\"$q_0$\", labelpad=-10)\n",
    "plt.ylabel(\"$q_1$\", labelpad=-10, rotation=0)"
   ]
  },
  {
   "cell_type": "markdown",
   "metadata": {},
   "source": [
    "### Second order GBur"
   ]
  },
  {
   "cell_type": "code",
   "execution_count": 21,
   "metadata": {},
   "outputs": [],
   "source": [
    "gBurConfigs = GeneralizedBurConfig(\n",
    "    20,\n",
    "    2,\n",
    "    0.00001,\n",
    "    0.01\n",
    ")\n",
    "\n",
    "gBurCenter = [0, 0]\n",
    "\n",
    "qLowerBounds = plant.GetPositionLowerLimits()\n",
    "qUpperBounds = plant.GetPositionUpperLimits()\n",
    "np.random.seed(100)\n",
    "\n",
    "# The random generator can be any function that returns a configuration\n",
    "randomGenerator = partial(np.random.uniform, low = qLowerBounds, high = qUpperBounds)"
   ]
  },
  {
   "cell_type": "code",
   "execution_count": 22,
   "metadata": {},
   "outputs": [],
   "source": [
    "gBur = GeneralizedBur(\n",
    "    gBurCenter,\n",
    "    gBurConfigs,\n",
    "    planarArm,\n",
    "    randomGenerator\n",
    ")\n",
    "\n",
    "layers, _ = gBur.calculateBur()"
   ]
  },
  {
   "cell_type": "code",
   "execution_count": 23,
   "metadata": {},
   "outputs": [
    {
     "data": {
      "image/png": "[encoded data removed]",
      "text/plain": [
       "<Figure size 640x480 with 1 Axes>"
      ]
     },
     "metadata": {},
     "output_type": "display_data"
    }
   ],
   "source": [
    "N = 250\n",
    "visualize2dConfigSpace(plt, checker, N, Rgba(0, 0, 0, 1))\n",
    "visualize2dGeneralizedBur(\n",
    "    plt, checker, gBur, N, [\n",
    "        Rgba(0.75, 0, 0, 1),\n",
    "        Rgba(0, 0.75, 0, 1), \n",
    "        Rgba(0, 0, 0.75, 1)\n",
    "        ]\n",
    "    )\n",
    "\n",
    "plt.xticks([0, N-1], [\"$-\\pi$\", \"$\\pi$\"])\n",
    "plt.yticks([0, N-1], [\"$\\pi$\", \"$-\\pi$\"])\n",
    "plt.xlabel(\"$q_0$\", labelpad=-10)\n",
    "plt.ylabel(\"$q_1$\", labelpad=-10, rotation=0)"
   ]
  },
  {
   "cell_type": "markdown",
   "metadata": {},
   "source": [
    "## GBur-IRIS (generalized bur + IRIS)"
   ]
  },
  {
   "cell_type": "code",
   "execution_count": 31,
   "metadata": {},
   "outputs": [
    {
     "name": "stderr",
     "output_type": "stream",
     "text": [
      "INFO:drake:Allocating contexts to support implicit context parallelism 4\n"
     ]
    }
   ],
   "source": [
    "builder = RobotDiagramBuilder()\n",
    "plant = builder.plant()\n",
    "\n",
    "parser = Parser(plant)\n",
    "parser.package_map().Add(\"assets\", os.path.join(os.path.dirname(os.path.abspath(\"__file__\")), \"assets\"))\n",
    "parser.AddModels(os.path.join(filePath, \"scenes/2dofScene0.dmd.yaml\"))\n",
    "plant.Finalize()\n",
    "\n",
    "diagram = builder.Build()\n",
    "\n",
    "# If the plant context is need it can be derived from the diagram (context)\n",
    "diagramContext = diagram.CreateDefaultContext()\n",
    "\n",
    "checker = SceneGraphCollisionChecker(\n",
    "    model=diagram,\n",
    "    robot_model_instances=[ plant.GetModelInstanceByName(\"2dofPlanarArm\") ],\n",
    "    edge_step_size=0.1,\n",
    ")"
   ]
  },
  {
   "cell_type": "code",
   "execution_count": 32,
   "metadata": {},
   "outputs": [],
   "source": [
    "jointChildAndEndEffectorLinks = [\n",
    "    plant.GetBodyByName(\"2dofPlanarLink1\", plant.GetModelInstanceByName(\"2dofPlanarArm\")),\n",
    "    plant.GetBodyByName(\"2dofPlanarLink2\", plant.GetModelInstanceByName(\"2dofPlanarArm\")),\n",
    "    plant.GetBodyByName(\"2dofPlanarEndEffector\", plant.GetModelInstanceByName(\"2dofPlanarArm\"))\n",
    "]\n",
    "\n",
    "planarArm = PlanarArm(\n",
    "    checker,\n",
    "    jointChildAndEndEffectorLinks,\n",
    "    [0.1] * 2\n",
    ")"
   ]
  },
  {
   "cell_type": "code",
   "execution_count": 33,
   "metadata": {},
   "outputs": [],
   "source": [
    "class DrakeRandomGenerator():\n",
    "    def __init__(\n",
    "            self,\n",
    "            domain: HPolyhedron,\n",
    "            randomGenerator: RandomGenerator\n",
    "        ) -> None:\n",
    "\n",
    "        self.domain = domain\n",
    "        self.randomGenerator = randomGenerator\n",
    "        self.lastSample = None\n",
    "\n",
    "\n",
    "    def randomConfig(\n",
    "            self\n",
    "            ):\n",
    "        if self.lastSample is None:\n",
    "            self.lastSample = self.domain.UniformSample(self.randomGenerator)\n",
    "        else:\n",
    "            self.lastSample = self.domain.UniformSample(self.randomGenerator, self.lastSample)\n",
    "\n",
    "        return self.lastSample\n"
   ]
  },
  {
   "cell_type": "markdown",
   "metadata": {},
   "source": [
    "### Three iterations of the GBur-IRIS algoritm"
   ]
  },
  {
   "cell_type": "code",
   "execution_count": 54,
   "metadata": {},
   "outputs": [],
   "source": [
    "gBurIRISconfigs = GBurIRISConfig(\n",
    "    7,\n",
    "    4,\n",
    "    0.00001,\n",
    "    0.01,\n",
    "    5000,\n",
    "    0.9,\n",
    "    3\n",
    ")\n",
    "\n",
    "gBurCenter = [0, 0]\n",
    "\n",
    "qLowerBounds = plant.GetPositionLowerLimits()\n",
    "qUpperBounds = plant.GetPositionUpperLimits()\n",
    "\n",
    "domain = HPolyhedron.MakeBox(qLowerBounds, qUpperBounds)\n",
    "randomGenerator = DrakeRandomGenerator(domain, RandomGenerator(117))"
   ]
  },
  {
   "cell_type": "code",
   "execution_count": 55,
   "metadata": {},
   "outputs": [
    {
     "name": "stderr",
     "output_type": "stream",
     "text": [
      "INFO:drake:IrisInConfigurationSpace iteration 0\n",
      "INFO:drake:IrisInConfigurationSpace: Terminating because the iteration limit 1 has been reached.\n",
      "INFO:drake:IrisInConfigurationSpace iteration 0\n",
      "INFO:drake:IrisInConfigurationSpace: Terminating because the iteration limit 1 has been reached.\n",
      "INFO:drake:IrisInConfigurationSpace iteration 0\n",
      "INFO:drake:IrisInConfigurationSpace: Terminating because the iteration limit 1 has been reached.\n"
     ]
    }
   ],
   "source": [
    "gBurIRISregions, coverage, gBurs = GBurIRIS(\n",
    "    checker,\n",
    "    planarArm,\n",
    "    gBurIRISconfigs,\n",
    "    randomGenerator.randomConfig\n",
    ")"
   ]
  },
  {
   "cell_type": "code",
   "execution_count": 56,
   "metadata": {},
   "outputs": [
    {
     "data": {
      "text/plain": [
       "Text(0, 0.5, '$q_1$')"
      ]
     },
     "execution_count": 56,
     "metadata": {},
     "output_type": "execute_result"
    },
    {
     "data": {
      "image/png": "[encoded data removed]",
      "text/plain": [
       "<Figure size 640x480 with 1 Axes>"
      ]
     },
     "metadata": {},
     "output_type": "display_data"
    }
   ],
   "source": [
    "N = 250\n",
    "visualize2dConfigSpace(plt, checker, N, Rgba(0, 0, 0, 1))\n",
    "\n",
    "for region, bur in zip(gBurIRISregions, gBurs):\n",
    "    color = Rgba(np.random.uniform(), np.random.uniform(), np.random.uniform(), 0.5)\n",
    "    visualize2dIrisPolytope(plt, checker.plant(), region, N, color)\n",
    "    visualize2dGeneralizedBur(plt, checker, bur, N, [ Rgba(0.75, 0, 0, 1) ] * 5)\n",
    "\n",
    "plt.xticks([0, N-1], [\"$-\\pi$\", \"$\\pi$\"])\n",
    "plt.yticks([0, N-1], [\"$\\pi$\", \"$-\\pi$\"])\n",
    "plt.xlabel(\"$q_0$\", labelpad=-10)\n",
    "plt.ylabel(\"$q_1$\", labelpad=-10, rotation=0)"
   ]
  },
  {
   "cell_type": "markdown",
   "metadata": {},
   "source": [
    "### GBur-IRIS with coverage termination"
   ]
  },
  {
   "cell_type": "code",
   "execution_count": 58,
   "metadata": {},
   "outputs": [],
   "source": [
    "gBurIRISconfigs = GBurIRISConfig(\n",
    "    7,\n",
    "    4,\n",
    "    0.00001,\n",
    "    0.01,\n",
    "    5000,\n",
    "    0.9,\n",
    "    100\n",
    ")\n",
    "\n",
    "gBurCenter = [0, 0]\n",
    "\n",
    "qLowerBounds = plant.GetPositionLowerLimits()\n",
    "qUpperBounds = plant.GetPositionUpperLimits()\n",
    "\n",
    "domain = HPolyhedron.MakeBox(qLowerBounds, qUpperBounds)\n",
    "randomGenerator = DrakeRandomGenerator(domain, RandomGenerator(117))"
   ]
  },
  {
   "cell_type": "code",
   "execution_count": 59,
   "metadata": {},
   "outputs": [
    {
     "name": "stderr",
     "output_type": "stream",
     "text": [
      "INFO:drake:IrisInConfigurationSpace iteration 0\n",
      "INFO:drake:IrisInConfigurationSpace: Terminating because the iteration limit 1 has been reached.\n",
      "INFO:drake:IrisInConfigurationSpace iteration 0\n",
      "INFO:drake:IrisInConfigurationSpace: Terminating because the iteration limit 1 has been reached.\n",
      "INFO:drake:IrisInConfigurationSpace iteration 0\n",
      "INFO:drake:IrisInConfigurationSpace: Terminating because the iteration limit 1 has been reached.\n",
      "INFO:drake:IrisInConfigurationSpace iteration 0\n",
      "INFO:drake:IrisInConfigurationSpace: Terminating because the iteration limit 1 has been reached.\n",
      "INFO:drake:IrisInConfigurationSpace iteration 0\n",
      "INFO:drake:IrisInConfigurationSpace: Terminating because the iteration limit 1 has been reached.\n",
      "INFO:drake:IrisInConfigurationSpace iteration 0\n",
      "INFO:drake:IrisInConfigurationSpace: Terminating because the iteration limit 1 has been reached.\n",
      "INFO:drake:IrisInConfigurationSpace iteration 0\n",
      "INFO:drake:IrisInConfigurationSpace: Terminating because the iteration limit 1 has been reached.\n",
      "INFO:drake:IrisInConfigurationSpace iteration 0\n",
      "INFO:drake:IrisInConfigurationSpace: Terminating because the iteration limit 1 has been reached.\n",
      "INFO:drake:IrisInConfigurationSpace iteration 0\n",
      "INFO:drake:IrisInConfigurationSpace: Terminating because the iteration limit 1 has been reached.\n",
      "INFO:drake:IrisInConfigurationSpace iteration 0\n",
      "INFO:drake:IrisInConfigurationSpace: Terminating because the iteration limit 1 has been reached.\n",
      "INFO:drake:IrisInConfigurationSpace iteration 0\n",
      "INFO:drake:IrisInConfigurationSpace: Terminating because the iteration limit 1 has been reached.\n",
      "INFO:drake:IrisInConfigurationSpace iteration 0\n",
      "INFO:drake:IrisInConfigurationSpace: Terminating because the iteration limit 1 has been reached.\n"
     ]
    }
   ],
   "source": [
    "gBurIRISregions, coverage, gBurs = GBurIRIS(\n",
    "    checker,\n",
    "    planarArm,\n",
    "    gBurIRISconfigs,\n",
    "    randomGenerator.randomConfig\n",
    ")"
   ]
  },
  {
   "cell_type": "code",
   "execution_count": 60,
   "metadata": {},
   "outputs": [
    {
     "data": {
      "text/plain": [
       "Text(0, 0.5, '$q_1$')"
      ]
     },
     "execution_count": 60,
     "metadata": {},
     "output_type": "execute_result"
    },
    {
     "data": {
      "image/png": "[encoded data removed]",
      "text/plain": [
       "<Figure size 640x480 with 1 Axes>"
      ]
     },
     "metadata": {},
     "output_type": "display_data"
    }
   ],
   "source": [
    "N = 250\n",
    "visualize2dConfigSpace(plt, checker, N, Rgba(0, 0, 0, 1))\n",
    "\n",
    "for region in gBurIRISregions:\n",
    "    color = Rgba(np.random.uniform(), np.random.uniform(), np.random.uniform(), 0.5)\n",
    "    visualize2dIrisPolytope(plt, checker.plant(), region, N, color)\n",
    "\n",
    "plt.xticks([0, N-1], [\"$-\\pi$\", \"$\\pi$\"])\n",
    "plt.yticks([0, N-1], [\"$\\pi$\", \"$-\\pi$\"])\n",
    "plt.xlabel(\"$q_0$\", labelpad=-10)\n",
    "plt.ylabel(\"$q_1$\", labelpad=-10, rotation=0)"
   ]
  },
  {
   "cell_type": "markdown",
   "metadata": {},
   "source": [
    "## VCC and GBur-IRIS comparison"
   ]
  },
  {
   "cell_type": "markdown",
   "metadata": {},
   "source": [
    "First run all the cells for the desired manipulator, the run the cells in the run section. "
   ]
  },
  {
   "cell_type": "code",
   "execution_count": 2,
   "metadata": {},
   "outputs": [],
   "source": [
    "class DrakeRandomGenerator():\n",
    "    def __init__(\n",
    "            self,\n",
    "            domain: HPolyhedron,\n",
    "            randomGenerator: RandomGenerator\n",
    "        ) -> None:\n",
    "\n",
    "        self.domain = domain\n",
    "        self.randomGenerator = randomGenerator\n",
    "        self.lastSample = None\n",
    "\n",
    "\n",
    "    def randomConfig(\n",
    "            self\n",
    "            ):\n",
    "        if self.lastSample is None:\n",
    "            self.lastSample = self.domain.UniformSample(self.randomGenerator)\n",
    "        else:\n",
    "            self.lastSample = self.domain.UniformSample(self.randomGenerator, self.lastSample)\n",
    "\n",
    "        return self.lastSample\n"
   ]
  },
  {
   "cell_type": "markdown",
   "metadata": {},
   "source": [
    "### 2DOF planar arm"
   ]
  },
  {
   "cell_type": "code",
   "execution_count": 3,
   "metadata": {},
   "outputs": [],
   "source": [
    "sceneNumber2DOF = 1"
   ]
  },
  {
   "cell_type": "code",
   "execution_count": 13,
   "metadata": {},
   "outputs": [
    {
     "name": "stderr",
     "output_type": "stream",
     "text": [
      "INFO:drake:Allocating contexts to support implicit context parallelism 4\n"
     ]
    }
   ],
   "source": [
    "builder = RobotDiagramBuilder()\n",
    "plant = builder.plant()\n",
    "\n",
    "parser = Parser(plant)\n",
    "parser.package_map().Add(\"assets\", os.path.join(os.path.dirname(os.path.abspath(\"__file__\")), \"assets\"))\n",
    "parser.AddModels(os.path.join(filePath, \"scenes/2dofScene%d.dmd.yaml\" % sceneNumber2DOF))\n",
    "plant.Finalize()\n",
    "\n",
    "diagram = builder.Build()\n",
    "\n",
    "# If the plant context is need it can be derived from the diagram (context)\n",
    "diagramContext = diagram.CreateDefaultContext()\n",
    "\n",
    "checker = SceneGraphCollisionChecker(\n",
    "    model=diagram,\n",
    "    robot_model_instances=[ plant.GetModelInstanceByName(\"2dofPlanarArm\") ],\n",
    "    edge_step_size=0.1,\n",
    ")\n",
    "\n",
    "jointChildAndEndEffectorLinks = [\n",
    "    plant.GetBodyByName(\"2dofPlanarLink1\", plant.GetModelInstanceByName(\"2dofPlanarArm\")),\n",
    "    plant.GetBodyByName(\"2dofPlanarLink2\", plant.GetModelInstanceByName(\"2dofPlanarArm\")),\n",
    "    plant.GetBodyByName(\"2dofPlanarEndEffector\", plant.GetModelInstanceByName(\"2dofPlanarArm\"))\n",
    "]\n",
    "\n",
    "robot = PlanarArm(\n",
    "    checker,\n",
    "    jointChildAndEndEffectorLinks,\n",
    "    [0.1] * 2\n",
    ")"
   ]
  },
  {
   "cell_type": "code",
   "execution_count": 14,
   "metadata": {},
   "outputs": [],
   "source": [
    "vcc_opts = IrisFromCliqueCoverOptions()\n",
    "\n",
    "vcc_opts.coverage_termination_threshold = 0.9\n",
    "vcc_opts.num_points_per_visibility_round = 500\n",
    "vcc_opts.num_points_per_coverage_check = 5000\n",
    "vcc_opts.minimum_clique_size = 10"
   ]
  },
  {
   "cell_type": "code",
   "execution_count": 15,
   "metadata": {},
   "outputs": [],
   "source": [
    "gBurIRISconfigs = GBurIRISConfig(\n",
    "    7,\n",
    "    4,\n",
    "    0.01,\n",
    "    0.01,\n",
    "    5000,\n",
    "    0.9,\n",
    "    100,\n",
    "    1,\n",
    "    True\n",
    ")"
   ]
  },
  {
   "cell_type": "markdown",
   "metadata": {},
   "source": [
    "### 3DOF anthropomorphic arm"
   ]
  },
  {
   "cell_type": "code",
   "execution_count": null,
   "metadata": {},
   "outputs": [],
   "source": [
    "sceneNumber3DOF = 1"
   ]
  },
  {
   "cell_type": "code",
   "execution_count": null,
   "metadata": {},
   "outputs": [],
   "source": [
    "builder = RobotDiagramBuilder()\n",
    "plant = builder.plant()\n",
    "\n",
    "parser = Parser(plant)\n",
    "parser.package_map().Add(\"assets\", os.path.join(os.path.dirname(os.path.abspath(\"__file__\")), \"assets\"))\n",
    "parser.AddModels(os.path.join(filePath, \"scenes/3dofScene%d.dmd.yaml\" % sceneNumber3DOF))\n",
    "plant.Finalize()\n",
    "\n",
    "diagram = builder.Build()\n",
    "\n",
    "# If the plant context is need it can be derived from the diagram (context)\n",
    "diagramContext = diagram.CreateDefaultContext()\n",
    "\n",
    "checker = SceneGraphCollisionChecker(\n",
    "    model=diagram,\n",
    "    robot_model_instances=[ plant.GetModelInstanceByName(\"AnthropomorphicArm\") ],\n",
    "    edge_step_size=0.1,\n",
    ")\n",
    "\n",
    "bodyIndices = plant.GetBodyIndices(plant.GetModelInstanceByName(\"AnthropomorphicArm\"))\n",
    "\n",
    "for i in range(len(bodyIndices)):\n",
    "    for j in range(i+1, len(bodyIndices)):\n",
    "        checker.SetCollisionFilteredBetween(bodyIndices[i], bodyIndices[j], True)\n",
    "\n",
    "jointChildAndEndEffectorLinks = [\n",
    "    plant.GetBodyByName(\"AnthropomorphicArmLink1\", plant.GetModelInstanceByName(\"AnthropomorphicArm\")),\n",
    "    plant.GetBodyByName(\"AnthropomorphicArmLink2\", plant.GetModelInstanceByName(\"AnthropomorphicArm\")),\n",
    "    plant.GetBodyByName(\"AnthropomorphicArmLink3\", plant.GetModelInstanceByName(\"AnthropomorphicArm\")),\n",
    "    plant.GetBodyByName(\"AnthropomorphicArmEndEffector\", plant.GetModelInstanceByName(\"AnthropomorphicArm\"))\n",
    "]\n",
    "\n",
    "\n",
    "robot = AnthropomorphicArm(\n",
    "    checker,\n",
    "    jointChildAndEndEffectorLinks,\n",
    "    [0.1] * 3\n",
    ")"
   ]
  },
  {
   "cell_type": "code",
   "execution_count": null,
   "metadata": {},
   "outputs": [],
   "source": [
    "vcc_opts = IrisFromCliqueCoverOptions()\n",
    "\n",
    "vcc_opts.coverage_termination_threshold = 0.6\n",
    "vcc_opts.num_points_per_visibility_round = 500\n",
    "vcc_opts.num_points_per_coverage_check = 5000\n",
    "vcc_opts.minimum_clique_size = 10"
   ]
  },
  {
   "cell_type": "code",
   "execution_count": null,
   "metadata": {},
   "outputs": [],
   "source": [
    "gBurIRISconfigs = GBurIRISConfig(\n",
    "    7,\n",
    "    4,\n",
    "    0.01,\n",
    "    0.01,\n",
    "    5000,\n",
    "    0.6,\n",
    "    100,\n",
    "    1,\n",
    "    True\n",
    ")"
   ]
  },
  {
   "cell_type": "markdown",
   "metadata": {},
   "source": [
    "### 6DOF planar arm"
   ]
  },
  {
   "cell_type": "code",
   "execution_count": null,
   "metadata": {},
   "outputs": [],
   "source": [
    "sceneNumber6DOF = 1"
   ]
  },
  {
   "cell_type": "code",
   "execution_count": null,
   "metadata": {},
   "outputs": [],
   "source": [
    "builder = RobotDiagramBuilder()\n",
    "plant = builder.plant()\n",
    "\n",
    "parser = Parser(plant)\n",
    "parser.package_map().Add(\"assets\", os.path.join(os.path.dirname(os.path.abspath(\"__file__\")), \"assets\"))\n",
    "parser.AddModels(os.path.join(filePath, \"scenes/6dofScene%d.dmd.yaml\" % sceneNumber6DOF))\n",
    "plant.Finalize()\n",
    "\n",
    "diagram = builder.Build()\n",
    "\n",
    "# If the plant context is need it can be derived from the diagram (context)\n",
    "diagramContext = diagram.CreateDefaultContext()\n",
    "\n",
    "checker = SceneGraphCollisionChecker(\n",
    "    model=diagram,\n",
    "    robot_model_instances=[ plant.GetModelInstanceByName(\"6dofPlanarArm\") ],\n",
    "    edge_step_size=0.1,\n",
    ")\n",
    "\n",
    "jointChildAndEndEffectorLinks = [\n",
    "    plant.GetBodyByName(\"6dofPlanarLink1\", plant.GetModelInstanceByName(\"6dofPlanarArm\")),\n",
    "    plant.GetBodyByName(\"6dofPlanarLink2\", plant.GetModelInstanceByName(\"6dofPlanarArm\")),\n",
    "    plant.GetBodyByName(\"6dofPlanarLink3\", plant.GetModelInstanceByName(\"6dofPlanarArm\")),\n",
    "    plant.GetBodyByName(\"6dofPlanarLink4\", plant.GetModelInstanceByName(\"6dofPlanarArm\")),\n",
    "    plant.GetBodyByName(\"6dofPlanarLink5\", plant.GetModelInstanceByName(\"6dofPlanarArm\")),\n",
    "    plant.GetBodyByName(\"6dofPlanarLink6\", plant.GetModelInstanceByName(\"6dofPlanarArm\")),\n",
    "    plant.GetBodyByName(\"6dofPlanarEndEffector\", plant.GetModelInstanceByName(\"6dofPlanarArm\"))\n",
    "]\n",
    "\n",
    "robot = PlanarArm(\n",
    "    checker,\n",
    "    jointChildAndEndEffectorLinks,\n",
    "    [0.1] * 6\n",
    ")"
   ]
  },
  {
   "cell_type": "code",
   "execution_count": null,
   "metadata": {},
   "outputs": [],
   "source": [
    "vcc_opts = IrisFromCliqueCoverOptions()\n",
    "\n",
    "vcc_opts.coverage_termination_threshold = 0.2\n",
    "vcc_opts.num_points_per_visibility_round = 500\n",
    "vcc_opts.num_points_per_coverage_check = 5000\n",
    "vcc_opts.minimum_clique_size = 10"
   ]
  },
  {
   "cell_type": "code",
   "execution_count": null,
   "metadata": {},
   "outputs": [],
   "source": [
    "gBurIRISconfigs = GBurIRISConfig(\n",
    "    7,\n",
    "    4,\n",
    "    0.01,\n",
    "    0.01,\n",
    "    5000,\n",
    "    0.2,\n",
    "    100,\n",
    "    1,\n",
    "    True\n",
    ")"
   ]
  },
  {
   "cell_type": "markdown",
   "metadata": {},
   "source": [
    "### Run"
   ]
  },
  {
   "cell_type": "code",
   "execution_count": 16,
   "metadata": {},
   "outputs": [],
   "source": [
    "qLowerBounds = plant.GetPositionLowerLimits()\n",
    "qUpperBounds = plant.GetPositionUpperLimits()\n",
    "\n",
    "domain = HPolyhedron.MakeBox(qLowerBounds, qUpperBounds)\n",
    "randomGenerator = DrakeRandomGenerator(domain, RandomGenerator(1337))"
   ]
  },
  {
   "cell_type": "markdown",
   "metadata": {},
   "source": [
    "#### Run VCC"
   ]
  },
  {
   "cell_type": "code",
   "execution_count": 11,
   "metadata": {},
   "outputs": [],
   "source": [
    "numOfRegionsVCC, coveragesVCC, timesVCC = [], [], []\n",
    "numOfRunsVCC = 1"
   ]
  },
  {
   "cell_type": "code",
   "execution_count": 12,
   "metadata": {},
   "outputs": [
    {
     "name": "stderr",
     "output_type": "stream",
     "text": [
      "INFO:drake:IrisInConfigurationSpace iteration 0\n",
      "INFO:drake:IrisInConfigurationSpace: Terminating because the iteration limit 1 has been reached.\n",
      "INFO:drake:IrisInConfigurationSpace iteration 0\n",
      "INFO:drake:IrisInConfigurationSpace: Terminating because the iteration limit 1 has been reached.\n",
      "INFO:drake:IrisInConfigurationSpace iteration 0\n",
      "INFO:drake:IrisInConfigurationSpace: Terminating because the iteration limit 1 has been reached.\n",
      "INFO:drake:IrisInConfigurationSpace iteration 0\n",
      "INFO:drake:IrisInConfigurationSpace: Terminating because the iteration limit 1 has been reached.\n",
      "INFO:drake:IrisInConfigurationSpace iteration 0\n",
      "INFO:drake:IrisInConfigurationSpace: Terminating because the iteration limit 1 has been reached.\n",
      "INFO:drake:IrisInConfigurationSpace iteration 0\n",
      "INFO:drake:IrisInConfigurationSpace: Terminating because the iteration limit 1 has been reached.\n",
      "INFO:drake:IrisInConfigurationSpace iteration 0\n",
      "INFO:drake:IrisInConfigurationSpace: Terminating because the iteration limit 1 has been reached.\n",
      "INFO:drake:IrisInConfigurationSpace iteration 0\n",
      "INFO:drake:IrisInConfigurationSpace: Terminating because the iteration limit 1 has been reached.\n"
     ]
    },
    {
     "name": "stdout",
     "output_type": "stream",
     "text": [
      "Run 1 done.\n",
      "VCC results:\n",
      "\tRuntime [s]: 86+-0\n",
      "\tNum. of regions: 8+-0\n"
     ]
    },
    {
     "ename": "ValueError",
     "evalue": "unsupported format character ']' (0x5d) at index 13",
     "output_type": "error",
     "traceback": [
      "\u001b[0;31m---------------------------------------------------------------------------\u001b[0m",
      "\u001b[0;31mValueError\u001b[0m                                Traceback (most recent call last)",
      "Cell \u001b[0;32mIn[12], line 25\u001b[0m\n\u001b[1;32m     23\u001b[0m \u001b[38;5;28mprint\u001b[39m(\u001b[38;5;124m\"\u001b[39m\u001b[38;5;130;01m\\t\u001b[39;00m\u001b[38;5;124mRuntime [s]: \u001b[39m\u001b[38;5;132;01m%d\u001b[39;00m\u001b[38;5;124m+-\u001b[39m\u001b[38;5;132;01m%d\u001b[39;00m\u001b[38;5;124m\"\u001b[39m \u001b[38;5;241m%\u001b[39m (np\u001b[38;5;241m.\u001b[39mmean(timesVCC), np\u001b[38;5;241m.\u001b[39mstd(timesVCC)))\n\u001b[1;32m     24\u001b[0m \u001b[38;5;28mprint\u001b[39m(\u001b[38;5;124m\"\u001b[39m\u001b[38;5;130;01m\\t\u001b[39;00m\u001b[38;5;124mNum. of regions: \u001b[39m\u001b[38;5;132;01m%d\u001b[39;00m\u001b[38;5;124m+-\u001b[39m\u001b[38;5;132;01m%d\u001b[39;00m\u001b[38;5;124m\"\u001b[39m \u001b[38;5;241m%\u001b[39m (np\u001b[38;5;241m.\u001b[39mmean(numOfRegionsVCC), np\u001b[38;5;241m.\u001b[39mstd(numOfRegionsVCC)))\n\u001b[0;32m---> 25\u001b[0m \u001b[38;5;28mprint\u001b[39m(\u001b[38;5;124;43m\"\u001b[39;49m\u001b[38;5;130;43;01m\\t\u001b[39;49;00m\u001b[38;5;124;43mCoverage [\u001b[39;49m\u001b[38;5;124;43m\\\u001b[39;49m\u001b[38;5;124;43m%\u001b[39;49m\u001b[38;5;124;43m]: \u001b[39;49m\u001b[38;5;132;43;01m%d\u001b[39;49;00m\u001b[38;5;124;43m+-\u001b[39;49m\u001b[38;5;132;43;01m%d\u001b[39;49;00m\u001b[38;5;124;43m\"\u001b[39;49m\u001b[43m \u001b[49m\u001b[38;5;241;43m%\u001b[39;49m\u001b[43m \u001b[49m\u001b[43m(\u001b[49m\u001b[43mnp\u001b[49m\u001b[38;5;241;43m.\u001b[39;49m\u001b[43mmean\u001b[49m\u001b[43m(\u001b[49m\u001b[43mcoveragesVCC\u001b[49m\u001b[43m)\u001b[49m\u001b[43m \u001b[49m\u001b[38;5;241;43m*\u001b[39;49m\u001b[43m \u001b[49m\u001b[38;5;241;43m100\u001b[39;49m\u001b[43m,\u001b[49m\u001b[43m \u001b[49m\u001b[43mnp\u001b[49m\u001b[38;5;241;43m.\u001b[39;49m\u001b[43mstd\u001b[49m\u001b[43m(\u001b[49m\u001b[43mcoveragesVCC\u001b[49m\u001b[43m)\u001b[49m\u001b[43m \u001b[49m\u001b[38;5;241;43m*\u001b[39;49m\u001b[43m \u001b[49m\u001b[38;5;241;43m100\u001b[39;49m\u001b[43m)\u001b[49m)\n",
      "\u001b[0;31mValueError\u001b[0m: unsupported format character ']' (0x5d) at index 13"
     ]
    }
   ],
   "source": [
    "i = 0\n",
    "while i < numOfRunsVCC:\n",
    "    domain = HPolyhedron.MakeBox(qLowerBounds, qUpperBounds)\n",
    "    randomGenerator = DrakeRandomGenerator(domain, RandomGenerator(np.random.randint(5500, 10000)))\n",
    "\n",
    "    try:\n",
    "        start = timer()\n",
    "        vcc_regions, coverage = VisibilityCliqueCover(\n",
    "            checker,\n",
    "            MaxCliqueSolverViaGreedy(),\n",
    "            vcc_opts,\n",
    "            randomGenerator.randomConfig\n",
    "        )\n",
    "        end = timer()\n",
    "    except:\n",
    "        continue\n",
    "\n",
    "    numOfRegionsVCC.append(len(vcc_regions))\n",
    "    coveragesVCC.append(coverage)\n",
    "    timesVCC.append(end - start)\n",
    "\n",
    "    i += 1\n",
    "    print(\"Run %d done.\" % i)\n",
    "\n",
    "print(\"VCC results:\")\n",
    "print(\"\\tRuntime [s]: %g+-%g\" % (np.mean(timesVCC), np.std(timesVCC)))\n",
    "print(\"\\tNum. of regions: %g+-%g\" % (np.mean(numOfRegionsVCC), np.std(numOfRegionsVCC)))\n",
    "print(\"\\tCoverage [%%]: %g+-%g\" % (np.mean(coveragesVCC) * 100, np.std(coveragesVCC) * 100))"
   ]
  },
  {
   "cell_type": "markdown",
   "metadata": {},
   "source": [
    "#### Run GBur-IRIS"
   ]
  },
  {
   "cell_type": "code",
   "execution_count": 17,
   "metadata": {},
   "outputs": [],
   "source": [
    "numOfRegionsGBurIRIS, coveragesGBurIRIS, timesGBurIRIS = [], [], []  \n",
    "numOfRunsGBurIRIS = 10"
   ]
  },
  {
   "cell_type": "code",
   "execution_count": 18,
   "metadata": {},
   "outputs": [
    {
     "name": "stderr",
     "output_type": "stream",
     "text": [
      "INFO:drake:IrisInConfigurationSpace iteration 0\n",
      "INFO:drake:IrisInConfigurationSpace: Terminating because the iteration limit 1 has been reached.\n",
      "INFO:drake:IrisInConfigurationSpace iteration 0\n",
      "INFO:drake:IrisInConfigurationSpace: Terminating because the iteration limit 1 has been reached.\n",
      "INFO:drake:IrisInConfigurationSpace iteration 0\n",
      "INFO:drake:IrisInConfigurationSpace: Terminating because the iteration limit 1 has been reached.\n",
      "INFO:drake:IrisInConfigurationSpace iteration 0\n",
      "INFO:drake:IrisInConfigurationSpace: Terminating because the iteration limit 1 has been reached.\n",
      "INFO:drake:IrisInConfigurationSpace iteration 0\n",
      "INFO:drake:IrisInConfigurationSpace: Terminating because the iteration limit 1 has been reached.\n",
      "INFO:drake:IrisInConfigurationSpace iteration 0\n",
      "INFO:drake:IrisInConfigurationSpace: Terminating because the iteration limit 1 has been reached.\n"
     ]
    },
    {
     "name": "stdout",
     "output_type": "stream",
     "text": [
      "Run 1 done.\n"
     ]
    },
    {
     "name": "stderr",
     "output_type": "stream",
     "text": [
      "INFO:drake:IrisInConfigurationSpace iteration 0\n",
      "INFO:drake:IrisInConfigurationSpace: Terminating because the iteration limit 1 has been reached.\n",
      "INFO:drake:IrisInConfigurationSpace iteration 0\n",
      "INFO:drake:IrisInConfigurationSpace: Terminating because the iteration limit 1 has been reached.\n",
      "INFO:drake:IrisInConfigurationSpace iteration 0\n",
      "INFO:drake:IrisInConfigurationSpace: Terminating because the iteration limit 1 has been reached.\n",
      "INFO:drake:IrisInConfigurationSpace iteration 0\n",
      "INFO:drake:IrisInConfigurationSpace: Terminating because the iteration limit 1 has been reached.\n"
     ]
    },
    {
     "name": "stdout",
     "output_type": "stream",
     "text": [
      "Run 2 done.\n"
     ]
    },
    {
     "name": "stderr",
     "output_type": "stream",
     "text": [
      "INFO:drake:IrisInConfigurationSpace iteration 0\n",
      "INFO:drake:IrisInConfigurationSpace: Terminating because the iteration limit 1 has been reached.\n",
      "INFO:drake:IrisInConfigurationSpace iteration 0\n",
      "INFO:drake:IrisInConfigurationSpace: Terminating because the iteration limit 1 has been reached.\n",
      "INFO:drake:IrisInConfigurationSpace iteration 0\n",
      "INFO:drake:IrisInConfigurationSpace: Terminating because the iteration limit 1 has been reached.\n",
      "INFO:drake:IrisInConfigurationSpace iteration 0\n",
      "INFO:drake:IrisInConfigurationSpace: Terminating because the iteration limit 1 has been reached.\n",
      "INFO:drake:IrisInConfigurationSpace iteration 0\n",
      "INFO:drake:IrisInConfigurationSpace: Terminating because the iteration limit 1 has been reached.\n"
     ]
    },
    {
     "name": "stdout",
     "output_type": "stream",
     "text": [
      "Run 3 done.\n"
     ]
    },
    {
     "name": "stderr",
     "output_type": "stream",
     "text": [
      "INFO:drake:IrisInConfigurationSpace iteration 0\n",
      "INFO:drake:IrisInConfigurationSpace: Terminating because the iteration limit 1 has been reached.\n",
      "INFO:drake:IrisInConfigurationSpace iteration 0\n",
      "INFO:drake:IrisInConfigurationSpace: Terminating because the iteration limit 1 has been reached.\n",
      "INFO:drake:IrisInConfigurationSpace iteration 0\n",
      "INFO:drake:IrisInConfigurationSpace: Terminating because the iteration limit 1 has been reached.\n"
     ]
    },
    {
     "name": "stdout",
     "output_type": "stream",
     "text": [
      "Run 4 done.\n"
     ]
    },
    {
     "name": "stderr",
     "output_type": "stream",
     "text": [
      "INFO:drake:IrisInConfigurationSpace iteration 0\n",
      "INFO:drake:IrisInConfigurationSpace: Terminating because the iteration limit 1 has been reached.\n",
      "INFO:drake:IrisInConfigurationSpace iteration 0\n",
      "INFO:drake:IrisInConfigurationSpace: Terminating because the iteration limit 1 has been reached.\n"
     ]
    },
    {
     "name": "stdout",
     "output_type": "stream",
     "text": [
      "Run 5 done.\n"
     ]
    },
    {
     "name": "stderr",
     "output_type": "stream",
     "text": [
      "INFO:drake:IrisInConfigurationSpace iteration 0\n",
      "INFO:drake:IrisInConfigurationSpace: Terminating because the iteration limit 1 has been reached.\n",
      "INFO:drake:IrisInConfigurationSpace iteration 0\n",
      "INFO:drake:IrisInConfigurationSpace: Terminating because the iteration limit 1 has been reached.\n",
      "INFO:drake:IrisInConfigurationSpace iteration 0\n",
      "INFO:drake:IrisInConfigurationSpace: Terminating because the iteration limit 1 has been reached.\n",
      "INFO:drake:IrisInConfigurationSpace iteration 0\n",
      "INFO:drake:IrisInConfigurationSpace: Terminating because the iteration limit 1 has been reached.\n"
     ]
    },
    {
     "name": "stdout",
     "output_type": "stream",
     "text": [
      "Run 6 done.\n"
     ]
    },
    {
     "name": "stderr",
     "output_type": "stream",
     "text": [
      "INFO:drake:IrisInConfigurationSpace iteration 0\n",
      "INFO:drake:IrisInConfigurationSpace: Terminating because the iteration limit 1 has been reached.\n",
      "INFO:drake:IrisInConfigurationSpace iteration 0\n",
      "INFO:drake:IrisInConfigurationSpace: Terminating because the iteration limit 1 has been reached.\n",
      "INFO:drake:IrisInConfigurationSpace iteration 0\n",
      "INFO:drake:IrisInConfigurationSpace iteration 0\n",
      "INFO:drake:IrisInConfigurationSpace: Terminating because the iteration limit 1 has been reached.\n",
      "INFO:drake:IrisInConfigurationSpace iteration 0\n",
      "INFO:drake:IrisInConfigurationSpace: Terminating because the iteration limit 1 has been reached.\n"
     ]
    },
    {
     "name": "stdout",
     "output_type": "stream",
     "text": [
      "Run 7 done.\n"
     ]
    },
    {
     "name": "stderr",
     "output_type": "stream",
     "text": [
      "INFO:drake:IrisInConfigurationSpace iteration 0\n",
      "INFO:drake:IrisInConfigurationSpace: Terminating because the iteration limit 1 has been reached.\n",
      "INFO:drake:IrisInConfigurationSpace iteration 0\n",
      "INFO:drake:IrisInConfigurationSpace: Terminating because the iteration limit 1 has been reached.\n",
      "INFO:drake:IrisInConfigurationSpace iteration 0\n",
      "INFO:drake:IrisInConfigurationSpace: Terminating because the iteration limit 1 has been reached.\n",
      "INFO:drake:IrisInConfigurationSpace iteration 0\n",
      "INFO:drake:IrisInConfigurationSpace: Terminating because the iteration limit 1 has been reached.\n"
     ]
    },
    {
     "name": "stdout",
     "output_type": "stream",
     "text": [
      "Run 8 done.\n"
     ]
    },
    {
     "name": "stderr",
     "output_type": "stream",
     "text": [
      "INFO:drake:IrisInConfigurationSpace iteration 0\n",
      "INFO:drake:IrisInConfigurationSpace: Terminating because the iteration limit 1 has been reached.\n",
      "INFO:drake:IrisInConfigurationSpace iteration 0\n",
      "INFO:drake:IrisInConfigurationSpace: Terminating because the iteration limit 1 has been reached.\n",
      "INFO:drake:IrisInConfigurationSpace iteration 0\n",
      "INFO:drake:IrisInConfigurationSpace: Terminating because the iteration limit 1 has been reached.\n"
     ]
    },
    {
     "name": "stdout",
     "output_type": "stream",
     "text": [
      "Run 9 done.\n"
     ]
    },
    {
     "name": "stderr",
     "output_type": "stream",
     "text": [
      "INFO:drake:IrisInConfigurationSpace iteration 0\n",
      "INFO:drake:IrisInConfigurationSpace: Terminating because the iteration limit 1 has been reached.\n",
      "INFO:drake:IrisInConfigurationSpace iteration 0\n",
      "INFO:drake:IrisInConfigurationSpace: Terminating because the iteration limit 1 has been reached.\n",
      "INFO:drake:IrisInConfigurationSpace iteration 0\n",
      "INFO:drake:IrisInConfigurationSpace: Terminating because the iteration limit 1 has been reached.\n",
      "INFO:drake:IrisInConfigurationSpace iteration 0\n",
      "INFO:drake:IrisInConfigurationSpace: Terminating because the iteration limit 1 has been reached.\n",
      "INFO:drake:IrisInConfigurationSpace iteration 0\n",
      "INFO:drake:IrisInConfigurationSpace: Terminating because the iteration limit 1 has been reached.\n"
     ]
    },
    {
     "name": "stdout",
     "output_type": "stream",
     "text": [
      "Run 10 done.\n",
      "GBur-IRIS results:\n",
      "\tRuntime [s]: 19.306+-3.64218\n",
      "\tNum. of regions: 4+-1.09545\n",
      "\tCoverage [%]: 92.75+-1.76066\n"
     ]
    }
   ],
   "source": [
    "i = 0\n",
    "while i < numOfRunsGBurIRIS:\n",
    "    domain = HPolyhedron.MakeBox(qLowerBounds, qUpperBounds)\n",
    "    randomGenerator = DrakeRandomGenerator(domain, RandomGenerator(np.random.randint(5500, 10000)))\n",
    "\n",
    "    try:\n",
    "        start = timer()\n",
    "        gBurIRISregions, coverage, _ = GBurIRIS(\n",
    "            checker,\n",
    "            robot,\n",
    "            gBurIRISconfigs,\n",
    "            randomGenerator.randomConfig\n",
    "        )\n",
    "        end = timer()\n",
    "    except:\n",
    "        continue\n",
    "\n",
    "    numOfRegionsGBurIRIS.append(len(gBurIRISregions))\n",
    "    coveragesGBurIRIS.append(coverage)\n",
    "    timesGBurIRIS.append(end - start)\n",
    "\n",
    "    i += 1\n",
    "    print(\"Run %d done.\" % i)\n",
    "\n",
    "print(\"GBur-IRIS results:\")\n",
    "print(\"\\tRuntime [s]: %g+-%g\" % (np.mean(timesGBurIRIS), np.std(timesGBurIRIS)))\n",
    "print(\"\\tNum. of regions: %g+-%g\" % (np.mean(numOfRegionsGBurIRIS), np.std(numOfRegionsGBurIRIS)))\n",
    "print(\"\\tCoverage [%%]: %g+-%g\" % (np.mean(coveragesGBurIRIS) * 100, np.std(coveragesGBurIRIS) * 100))"
   ]
  }
 ],
 "metadata": {
  "kernelspec": {
   "display_name": "Python 3",
   "language": "python",
   "name": "python3"
  },
  "language_info": {
   "codemirror_mode": {
    "name": "ipython",
    "version": 3
   },
   "file_extension": ".py",
   "mimetype": "text/x-python",
   "name": "python",
   "nbconvert_exporter": "python",
   "pygments_lexer": "ipython3",
   "version": "3.10.12"
  }
 },
 "nbformat": 4,
 "nbformat_minor": 2
}
